{
 "cells": [
  {
   "cell_type": "markdown",
   "metadata": {},
   "source": [
    "## 0. Load imports "
   ]
  },
  {
   "cell_type": "code",
   "execution_count": 6,
   "metadata": {},
   "outputs": [],
   "source": [
    "## imports\n",
    "import pandas as pd\n",
    "import numpy as np\n",
    "\n",
    "\n",
    "## print multiple things from same cell\n",
    "from IPython.core.interactiveshell import InteractiveShell\n",
    "InteractiveShell.ast_node_interactivity = \"all\""
   ]
  },
  {
   "cell_type": "markdown",
   "metadata": {},
   "source": [
    "## 0. Load data"
   ]
  },
  {
   "cell_type": "code",
   "execution_count": 8,
   "metadata": {},
   "outputs": [
    {
     "data": {
      "text/html": [
       "<div>\n",
       "<style scoped>\n",
       "    .dataframe tbody tr th:only-of-type {\n",
       "        vertical-align: middle;\n",
       "    }\n",
       "\n",
       "    .dataframe tbody tr th {\n",
       "        vertical-align: top;\n",
       "    }\n",
       "\n",
       "    .dataframe thead th {\n",
       "        text-align: right;\n",
       "    }\n",
       "</style>\n",
       "<table border=\"1\" class=\"dataframe\">\n",
       "  <thead>\n",
       "    <tr style=\"text-align: right;\">\n",
       "      <th></th>\n",
       "      <th>X</th>\n",
       "      <th>Y</th>\n",
       "      <th>CCN</th>\n",
       "      <th>REPORT_DAT</th>\n",
       "      <th>SHIFT</th>\n",
       "      <th>METHOD</th>\n",
       "      <th>OFFENSE</th>\n",
       "      <th>BLOCK</th>\n",
       "      <th>XBLOCK</th>\n",
       "      <th>YBLOCK</th>\n",
       "      <th>...</th>\n",
       "      <th>BLOCK_GROUP</th>\n",
       "      <th>CENSUS_TRACT</th>\n",
       "      <th>VOTING_PRECINCT</th>\n",
       "      <th>LATITUDE</th>\n",
       "      <th>LONGITUDE</th>\n",
       "      <th>BID</th>\n",
       "      <th>START_DATE</th>\n",
       "      <th>END_DATE</th>\n",
       "      <th>OBJECTID</th>\n",
       "      <th>OCTO_RECORD_ID</th>\n",
       "    </tr>\n",
       "  </thead>\n",
       "  <tbody>\n",
       "    <tr>\n",
       "      <th>0</th>\n",
       "      <td>-76.987540</td>\n",
       "      <td>38.903968</td>\n",
       "      <td>20008120</td>\n",
       "      <td>2020/01/14 15:49:55+00</td>\n",
       "      <td>DAY</td>\n",
       "      <td>OTHERS</td>\n",
       "      <td>THEFT F/AUTO</td>\n",
       "      <td>1200 - 1299 BLOCK OF NEAL STREET NE</td>\n",
       "      <td>401081.0</td>\n",
       "      <td>137345.0</td>\n",
       "      <td>...</td>\n",
       "      <td>008802 3</td>\n",
       "      <td>8802.0</td>\n",
       "      <td>Precinct 77</td>\n",
       "      <td>38.903960</td>\n",
       "      <td>-76.987537</td>\n",
       "      <td>NaN</td>\n",
       "      <td>2020/01/14 15:04:04+00</td>\n",
       "      <td>NaN</td>\n",
       "      <td>673713315</td>\n",
       "      <td>NaN</td>\n",
       "    </tr>\n",
       "    <tr>\n",
       "      <th>1</th>\n",
       "      <td>-77.004840</td>\n",
       "      <td>38.833739</td>\n",
       "      <td>20008192</td>\n",
       "      <td>2020/01/14 19:43:04+00</td>\n",
       "      <td>DAY</td>\n",
       "      <td>GUN</td>\n",
       "      <td>ASSAULT W/DANGEROUS WEAPON</td>\n",
       "      <td>100 - 165 BLOCK OF MISSISSIPPI AVENUE SE</td>\n",
       "      <td>399580.0</td>\n",
       "      <td>129549.0</td>\n",
       "      <td>...</td>\n",
       "      <td>009803 3</td>\n",
       "      <td>9803.0</td>\n",
       "      <td>Precinct 124</td>\n",
       "      <td>38.833731</td>\n",
       "      <td>-77.004837</td>\n",
       "      <td>NaN</td>\n",
       "      <td>2020/01/14 17:17:37+00</td>\n",
       "      <td>NaN</td>\n",
       "      <td>673713316</td>\n",
       "      <td>NaN</td>\n",
       "    </tr>\n",
       "    <tr>\n",
       "      <th>2</th>\n",
       "      <td>-76.999472</td>\n",
       "      <td>38.907644</td>\n",
       "      <td>20008246</td>\n",
       "      <td>2020/01/14 20:09:52+00</td>\n",
       "      <td>EVENING</td>\n",
       "      <td>OTHERS</td>\n",
       "      <td>THEFT/OTHER</td>\n",
       "      <td>400 - 499 BLOCK OF MORSE STREET NE</td>\n",
       "      <td>400046.0</td>\n",
       "      <td>137753.0</td>\n",
       "      <td>...</td>\n",
       "      <td>008803 2</td>\n",
       "      <td>8803.0</td>\n",
       "      <td>Precinct 76</td>\n",
       "      <td>38.907636</td>\n",
       "      <td>-76.999470</td>\n",
       "      <td>NaN</td>\n",
       "      <td>2020/01/10 23:00:00+00</td>\n",
       "      <td>2020/01/14 18:00:44+00</td>\n",
       "      <td>673713317</td>\n",
       "      <td>NaN</td>\n",
       "    </tr>\n",
       "    <tr>\n",
       "      <th>3</th>\n",
       "      <td>-76.982729</td>\n",
       "      <td>38.916480</td>\n",
       "      <td>20008501</td>\n",
       "      <td>2020/01/15 03:28:53+00</td>\n",
       "      <td>EVENING</td>\n",
       "      <td>OTHERS</td>\n",
       "      <td>THEFT/OTHER</td>\n",
       "      <td>1500 - 1599 BLOCK OF NEW YORK AVENUE NE</td>\n",
       "      <td>401498.0</td>\n",
       "      <td>138734.0</td>\n",
       "      <td>...</td>\n",
       "      <td>008803 1</td>\n",
       "      <td>8803.0</td>\n",
       "      <td>Precinct 76</td>\n",
       "      <td>38.916472</td>\n",
       "      <td>-76.982727</td>\n",
       "      <td>NaN</td>\n",
       "      <td>2020/01/15 02:31:24+00</td>\n",
       "      <td>NaN</td>\n",
       "      <td>673713318</td>\n",
       "      <td>NaN</td>\n",
       "    </tr>\n",
       "    <tr>\n",
       "      <th>4</th>\n",
       "      <td>-76.980077</td>\n",
       "      <td>38.917191</td>\n",
       "      <td>20009148</td>\n",
       "      <td>2020/01/16 04:12:47+00</td>\n",
       "      <td>MIDNIGHT</td>\n",
       "      <td>OTHERS</td>\n",
       "      <td>THEFT/OTHER</td>\n",
       "      <td>1600 - 1779 BLOCK OF NEW YORK AVENUE NE</td>\n",
       "      <td>401728.0</td>\n",
       "      <td>138813.0</td>\n",
       "      <td>...</td>\n",
       "      <td>008803 1</td>\n",
       "      <td>8803.0</td>\n",
       "      <td>Precinct 76</td>\n",
       "      <td>38.917184</td>\n",
       "      <td>-76.980074</td>\n",
       "      <td>NaN</td>\n",
       "      <td>2020/01/16 01:15:36+00</td>\n",
       "      <td>2020/01/16 01:19:54+00</td>\n",
       "      <td>673713319</td>\n",
       "      <td>NaN</td>\n",
       "    </tr>\n",
       "  </tbody>\n",
       "</table>\n",
       "<p>5 rows × 25 columns</p>\n",
       "</div>"
      ],
      "text/plain": [
       "           X          Y       CCN              REPORT_DAT     SHIFT  METHOD  \\\n",
       "0 -76.987540  38.903968  20008120  2020/01/14 15:49:55+00       DAY  OTHERS   \n",
       "1 -77.004840  38.833739  20008192  2020/01/14 19:43:04+00       DAY     GUN   \n",
       "2 -76.999472  38.907644  20008246  2020/01/14 20:09:52+00   EVENING  OTHERS   \n",
       "3 -76.982729  38.916480  20008501  2020/01/15 03:28:53+00   EVENING  OTHERS   \n",
       "4 -76.980077  38.917191  20009148  2020/01/16 04:12:47+00  MIDNIGHT  OTHERS   \n",
       "\n",
       "                      OFFENSE                                     BLOCK  \\\n",
       "0                THEFT F/AUTO       1200 - 1299 BLOCK OF NEAL STREET NE   \n",
       "1  ASSAULT W/DANGEROUS WEAPON  100 - 165 BLOCK OF MISSISSIPPI AVENUE SE   \n",
       "2                 THEFT/OTHER        400 - 499 BLOCK OF MORSE STREET NE   \n",
       "3                 THEFT/OTHER   1500 - 1599 BLOCK OF NEW YORK AVENUE NE   \n",
       "4                 THEFT/OTHER   1600 - 1779 BLOCK OF NEW YORK AVENUE NE   \n",
       "\n",
       "     XBLOCK    YBLOCK  ...  BLOCK_GROUP CENSUS_TRACT  VOTING_PRECINCT  \\\n",
       "0  401081.0  137345.0  ...     008802 3       8802.0      Precinct 77   \n",
       "1  399580.0  129549.0  ...     009803 3       9803.0     Precinct 124   \n",
       "2  400046.0  137753.0  ...     008803 2       8803.0      Precinct 76   \n",
       "3  401498.0  138734.0  ...     008803 1       8803.0      Precinct 76   \n",
       "4  401728.0  138813.0  ...     008803 1       8803.0      Precinct 76   \n",
       "\n",
       "    LATITUDE  LONGITUDE  BID              START_DATE                END_DATE  \\\n",
       "0  38.903960 -76.987537  NaN  2020/01/14 15:04:04+00                     NaN   \n",
       "1  38.833731 -77.004837  NaN  2020/01/14 17:17:37+00                     NaN   \n",
       "2  38.907636 -76.999470  NaN  2020/01/10 23:00:00+00  2020/01/14 18:00:44+00   \n",
       "3  38.916472 -76.982727  NaN  2020/01/15 02:31:24+00                     NaN   \n",
       "4  38.917184 -76.980074  NaN  2020/01/16 01:15:36+00  2020/01/16 01:19:54+00   \n",
       "\n",
       "    OBJECTID  OCTO_RECORD_ID  \n",
       "0  673713315             NaN  \n",
       "1  673713316             NaN  \n",
       "2  673713317             NaN  \n",
       "3  673713318             NaN  \n",
       "4  673713319             NaN  \n",
       "\n",
       "[5 rows x 25 columns]"
      ]
     },
     "execution_count": 8,
     "metadata": {},
     "output_type": "execute_result"
    },
    {
     "data": {
      "text/plain": [
       "(27931, 25)"
      ]
     },
     "execution_count": 8,
     "metadata": {},
     "output_type": "execute_result"
    },
    {
     "name": "stdout",
     "output_type": "stream",
     "text": [
      "<class 'pandas.core.frame.DataFrame'>\n",
      "RangeIndex: 27931 entries, 0 to 27930\n",
      "Data columns (total 25 columns):\n",
      " #   Column                Non-Null Count  Dtype  \n",
      "---  ------                --------------  -----  \n",
      " 0   X                     27931 non-null  float64\n",
      " 1   Y                     27931 non-null  float64\n",
      " 2   CCN                   27931 non-null  int64  \n",
      " 3   REPORT_DAT            27931 non-null  object \n",
      " 4   SHIFT                 27931 non-null  object \n",
      " 5   METHOD                27931 non-null  object \n",
      " 6   OFFENSE               27931 non-null  object \n",
      " 7   BLOCK                 27931 non-null  object \n",
      " 8   XBLOCK                27931 non-null  float64\n",
      " 9   YBLOCK                27931 non-null  float64\n",
      " 10  WARD                  27931 non-null  int64  \n",
      " 11  ANC                   27931 non-null  object \n",
      " 12  DISTRICT              27902 non-null  float64\n",
      " 13  PSA                   27896 non-null  float64\n",
      " 14  NEIGHBORHOOD_CLUSTER  27931 non-null  object \n",
      " 15  BLOCK_GROUP           27930 non-null  object \n",
      " 16  CENSUS_TRACT          27930 non-null  float64\n",
      " 17  VOTING_PRECINCT       27931 non-null  object \n",
      " 18  LATITUDE              27931 non-null  float64\n",
      " 19  LONGITUDE             27931 non-null  float64\n",
      " 20  BID                   4658 non-null   object \n",
      " 21  START_DATE            27931 non-null  object \n",
      " 22  END_DATE              24850 non-null  object \n",
      " 23  OBJECTID              27931 non-null  int64  \n",
      " 24  OCTO_RECORD_ID        0 non-null      float64\n",
      "dtypes: float64(10), int64(3), object(12)\n",
      "memory usage: 5.3+ MB\n"
     ]
    }
   ],
   "source": [
    "## load data on 2020 crimes in DC\n",
    "df = dc_crim_2020 = pd.read_csv(\"https://opendata.arcgis.com/datasets/f516e0dd7b614b088ad781b0c4002331_2.csv\")\n",
    "dc_crim_2020.head()\n",
    "dc_crim_2020.shape\n",
    "dc_crim_2020.info()\n"
   ]
  },
  {
   "cell_type": "markdown",
   "metadata": {},
   "source": [
    "#### Warm-up: Ways to add 100 to column X"
   ]
  },
  {
   "cell_type": "code",
   "execution_count": 10,
   "metadata": {},
   "outputs": [
    {
     "name": "stdout",
     "output_type": "stream",
     "text": [
      "<class 'pandas.core.frame.DataFrame'>\n",
      "RangeIndex: 27931 entries, 0 to 27930\n",
      "Data columns (total 25 columns):\n",
      " #   Column                Non-Null Count  Dtype  \n",
      "---  ------                --------------  -----  \n",
      " 0   X                     27931 non-null  float64\n",
      " 1   Y                     27931 non-null  float64\n",
      " 2   CCN                   27931 non-null  int64  \n",
      " 3   REPORT_DAT            27931 non-null  object \n",
      " 4   SHIFT                 27931 non-null  object \n",
      " 5   METHOD                27931 non-null  object \n",
      " 6   OFFENSE               27931 non-null  object \n",
      " 7   BLOCK                 27931 non-null  object \n",
      " 8   XBLOCK                27931 non-null  float64\n",
      " 9   YBLOCK                27931 non-null  float64\n",
      " 10  WARD                  27931 non-null  int64  \n",
      " 11  ANC                   27931 non-null  object \n",
      " 12  DISTRICT              27902 non-null  float64\n",
      " 13  PSA                   27896 non-null  float64\n",
      " 14  NEIGHBORHOOD_CLUSTER  27931 non-null  object \n",
      " 15  BLOCK_GROUP           27930 non-null  object \n",
      " 16  CENSUS_TRACT          27930 non-null  float64\n",
      " 17  VOTING_PRECINCT       27931 non-null  object \n",
      " 18  LATITUDE              27931 non-null  float64\n",
      " 19  LONGITUDE             27931 non-null  float64\n",
      " 20  BID                   4658 non-null   object \n",
      " 21  START_DATE            27931 non-null  object \n",
      " 22  END_DATE              24850 non-null  object \n",
      " 23  OBJECTID              27931 non-null  int64  \n",
      " 24  OCTO_RECORD_ID        0 non-null      float64\n",
      "dtypes: float64(10), int64(3), object(12)\n",
      "memory usage: 5.3+ MB\n"
     ]
    }
   ],
   "source": [
    "df[\"X\"]+=100\n",
    "df.info()"
   ]
  },
  {
   "cell_type": "code",
   "execution_count": 11,
   "metadata": {},
   "outputs": [
    {
     "data": {
      "text/plain": [
       "0        123.012460\n",
       "1        122.995160\n",
       "2        123.000528\n",
       "3        123.017271\n",
       "4        123.019923\n",
       "            ...    \n",
       "27926    122.900569\n",
       "27927    123.005634\n",
       "27928    123.029624\n",
       "27929    122.940778\n",
       "27930    122.970368\n",
       "Name: X, Length: 27931, dtype: float64"
      ]
     },
     "execution_count": 11,
     "metadata": {},
     "output_type": "execute_result"
    },
    {
     "name": "stdout",
     "output_type": "stream",
     "text": [
      "<class 'pandas.core.frame.DataFrame'>\n",
      "RangeIndex: 27931 entries, 0 to 27930\n",
      "Data columns (total 25 columns):\n",
      " #   Column                Non-Null Count  Dtype  \n",
      "---  ------                --------------  -----  \n",
      " 0   X                     27931 non-null  float64\n",
      " 1   Y                     27931 non-null  float64\n",
      " 2   CCN                   27931 non-null  int64  \n",
      " 3   REPORT_DAT            27931 non-null  object \n",
      " 4   SHIFT                 27931 non-null  object \n",
      " 5   METHOD                27931 non-null  object \n",
      " 6   OFFENSE               27931 non-null  object \n",
      " 7   BLOCK                 27931 non-null  object \n",
      " 8   XBLOCK                27931 non-null  float64\n",
      " 9   YBLOCK                27931 non-null  float64\n",
      " 10  WARD                  27931 non-null  int64  \n",
      " 11  ANC                   27931 non-null  object \n",
      " 12  DISTRICT              27902 non-null  float64\n",
      " 13  PSA                   27896 non-null  float64\n",
      " 14  NEIGHBORHOOD_CLUSTER  27931 non-null  object \n",
      " 15  BLOCK_GROUP           27930 non-null  object \n",
      " 16  CENSUS_TRACT          27930 non-null  float64\n",
      " 17  VOTING_PRECINCT       27931 non-null  object \n",
      " 18  LATITUDE              27931 non-null  float64\n",
      " 19  LONGITUDE             27931 non-null  float64\n",
      " 20  BID                   4658 non-null   object \n",
      " 21  START_DATE            27931 non-null  object \n",
      " 22  END_DATE              24850 non-null  object \n",
      " 23  OBJECTID              27931 non-null  int64  \n",
      " 24  OCTO_RECORD_ID        0 non-null      float64\n",
      "dtypes: float64(10), int64(3), object(12)\n",
      "memory usage: 5.3+ MB\n"
     ]
    }
   ],
   "source": [
    "df[\"X\"].add(100)\n",
    "df.info()"
   ]
  },
  {
   "cell_type": "markdown",
   "metadata": {},
   "source": [
    "## 1. Aggregation"
   ]
  },
  {
   "cell_type": "markdown",
   "metadata": {},
   "source": [
    "### Example of grouping by one variable and doing one aggregation \n",
    "\n",
    "**Task**: find and print the number of unique offense types (`OFFENSE`) by ward (`WARD`)"
   ]
  },
  {
   "cell_type": "code",
   "execution_count": 14,
   "metadata": {},
   "outputs": [],
   "source": [
    "offense_by_ward = df.groupby(\"WARD\")[\"OFFENSE\"].nunique()"
   ]
  },
  {
   "cell_type": "markdown",
   "metadata": {},
   "source": [
    "### Example of grouping by one variable and providing two summaries of the same variable\n",
    "\n",
    "**Task**: previous showed number of offenses by ward but want to find out content of offenses in each ward; create an aggregation that summarizes both the number of unique offenses by ward and what those offenses are -- for instance, by pasting the unique offenses in that ward separated by the \";\" (e.g., Theft; Burglary;...)\n",
    "\n",
    "*Hint*: you can use the join command to paste together a list separated by some delimiter. \n",
    "    - The syntax, if we are using the comma delimiter, is: \", \".join(nameoflist)"
   ]
  },
  {
   "cell_type": "code",
   "execution_count": 16,
   "metadata": {},
   "outputs": [
    {
     "data": {
      "text/html": [
       "<div>\n",
       "<style scoped>\n",
       "    .dataframe tbody tr th:only-of-type {\n",
       "        vertical-align: middle;\n",
       "    }\n",
       "\n",
       "    .dataframe tbody tr th {\n",
       "        vertical-align: top;\n",
       "    }\n",
       "\n",
       "    .dataframe thead th {\n",
       "        text-align: right;\n",
       "    }\n",
       "</style>\n",
       "<table border=\"1\" class=\"dataframe\">\n",
       "  <thead>\n",
       "    <tr style=\"text-align: right;\">\n",
       "      <th></th>\n",
       "      <th>Unique_Offenses</th>\n",
       "      <th>offenses_list</th>\n",
       "    </tr>\n",
       "    <tr>\n",
       "      <th>WARD</th>\n",
       "      <th></th>\n",
       "      <th></th>\n",
       "    </tr>\n",
       "  </thead>\n",
       "  <tbody>\n",
       "    <tr>\n",
       "      <th>1</th>\n",
       "      <td>9</td>\n",
       "      <td>BURGLARY, THEFT F/AUTO, ROBBERY, THEFT/OTHER, ...</td>\n",
       "    </tr>\n",
       "    <tr>\n",
       "      <th>2</th>\n",
       "      <td>9</td>\n",
       "      <td>THEFT F/AUTO, THEFT/OTHER, BURGLARY, HOMICIDE,...</td>\n",
       "    </tr>\n",
       "    <tr>\n",
       "      <th>3</th>\n",
       "      <td>8</td>\n",
       "      <td>THEFT F/AUTO, THEFT/OTHER, BURGLARY, MOTOR VEH...</td>\n",
       "    </tr>\n",
       "    <tr>\n",
       "      <th>4</th>\n",
       "      <td>8</td>\n",
       "      <td>THEFT F/AUTO, BURGLARY, THEFT/OTHER, MOTOR VEH...</td>\n",
       "    </tr>\n",
       "    <tr>\n",
       "      <th>5</th>\n",
       "      <td>9</td>\n",
       "      <td>THEFT F/AUTO, THEFT/OTHER, MOTOR VEHICLE THEFT...</td>\n",
       "    </tr>\n",
       "    <tr>\n",
       "      <th>6</th>\n",
       "      <td>9</td>\n",
       "      <td>THEFT/OTHER, ROBBERY, MOTOR VEHICLE THEFT, THE...</td>\n",
       "    </tr>\n",
       "    <tr>\n",
       "      <th>7</th>\n",
       "      <td>9</td>\n",
       "      <td>ROBBERY, THEFT/OTHER, THEFT F/AUTO, MOTOR VEHI...</td>\n",
       "    </tr>\n",
       "    <tr>\n",
       "      <th>8</th>\n",
       "      <td>9</td>\n",
       "      <td>ASSAULT W/DANGEROUS WEAPON, THEFT/OTHER, THEFT...</td>\n",
       "    </tr>\n",
       "  </tbody>\n",
       "</table>\n",
       "</div>"
      ],
      "text/plain": [
       "      Unique_Offenses                                      offenses_list\n",
       "WARD                                                                    \n",
       "1                   9  BURGLARY, THEFT F/AUTO, ROBBERY, THEFT/OTHER, ...\n",
       "2                   9  THEFT F/AUTO, THEFT/OTHER, BURGLARY, HOMICIDE,...\n",
       "3                   8  THEFT F/AUTO, THEFT/OTHER, BURGLARY, MOTOR VEH...\n",
       "4                   8  THEFT F/AUTO, BURGLARY, THEFT/OTHER, MOTOR VEH...\n",
       "5                   9  THEFT F/AUTO, THEFT/OTHER, MOTOR VEHICLE THEFT...\n",
       "6                   9  THEFT/OTHER, ROBBERY, MOTOR VEHICLE THEFT, THE...\n",
       "7                   9  ROBBERY, THEFT/OTHER, THEFT F/AUTO, MOTOR VEHI...\n",
       "8                   9  ASSAULT W/DANGEROUS WEAPON, THEFT/OTHER, THEFT..."
      ]
     },
     "execution_count": 16,
     "metadata": {},
     "output_type": "execute_result"
    }
   ],
   "source": [
    "df.groupby(\"WARD\")[\"OFFENSE\"].agg(\n",
    "    Unique_Offenses =\"nunique\",\n",
    "    offenses_list=lambda x: \", \".join(x.unique())\n",
    ")\n"
   ]
  },
  {
   "cell_type": "markdown",
   "metadata": {},
   "source": [
    "### Example of grouping by two variables \n",
    "\n",
    "**Task**: group by ward (`WARD`) and police shift (`SHIFT`) and find the offense that is most common in that ward and shift"
   ]
  },
  {
   "cell_type": "code",
   "execution_count": 18,
   "metadata": {},
   "outputs": [
    {
     "data": {
      "text/plain": [
       "WARD  SHIFT   \n",
       "1     DAY                        THEFT/OTHER\n",
       "      EVENING                    THEFT/OTHER\n",
       "      MIDNIGHT                   THEFT/OTHER\n",
       "2     DAY                        THEFT/OTHER\n",
       "      EVENING                    THEFT/OTHER\n",
       "      MIDNIGHT                   THEFT/OTHER\n",
       "3     DAY                        THEFT/OTHER\n",
       "      EVENING                    THEFT/OTHER\n",
       "      MIDNIGHT                   THEFT/OTHER\n",
       "4     DAY                       THEFT F/AUTO\n",
       "      EVENING                    THEFT/OTHER\n",
       "      MIDNIGHT                   THEFT/OTHER\n",
       "5     DAY                       THEFT F/AUTO\n",
       "      EVENING                    THEFT/OTHER\n",
       "      MIDNIGHT                   THEFT/OTHER\n",
       "6     DAY                        THEFT/OTHER\n",
       "      EVENING                    THEFT/OTHER\n",
       "      MIDNIGHT                   THEFT/OTHER\n",
       "7     DAY                       THEFT F/AUTO\n",
       "      EVENING                    THEFT/OTHER\n",
       "      MIDNIGHT                   THEFT/OTHER\n",
       "8     DAY                       THEFT F/AUTO\n",
       "      EVENING                    THEFT/OTHER\n",
       "      MIDNIGHT    ASSAULT W/DANGEROUS WEAPON\n",
       "Name: OFFENSE, dtype: object"
      ]
     },
     "execution_count": 18,
     "metadata": {},
     "output_type": "execute_result"
    }
   ],
   "source": [
    "\n",
    "df.groupby([\"WARD\",\"SHIFT\"])[\"OFFENSE\"].agg(lambda x: x.value_counts().idxmax())"
   ]
  },
  {
   "cell_type": "markdown",
   "metadata": {},
   "source": [
    "## Summarizing over all rows or all columns (without grouping)\n",
    "\n",
    "We can also use the `apply` function to summarize rows or columns efficiently"
   ]
  },
  {
   "cell_type": "markdown",
   "metadata": {},
   "source": [
    "**Task**: find the mean lat and longitude in one line of code"
   ]
  },
  {
   "cell_type": "code",
   "execution_count": 21,
   "metadata": {},
   "outputs": [
    {
     "name": "stdout",
     "output_type": "stream",
     "text": [
      "38.907610313323346 -77.00704715317242\n"
     ]
    }
   ],
   "source": [
    "print(df.LATITUDE.mean(),df.LONGITUDE.mean())"
   ]
  },
  {
   "cell_type": "markdown",
   "metadata": {},
   "source": [
    "## 2. Creating new columns/transforming their type "
   ]
  },
  {
   "cell_type": "markdown",
   "metadata": {},
   "source": [
    "### Simple filtering\n",
    "\n",
    "`np.where` is in the numpy package (aliased as `np`) and operates similar to `ifelse` in R\n",
    "\n",
    "But there is a built in pandas way to emulate this.\n",
    "\n",
    "**Task**: create an indicator `is_theft` for any offense that contains the word \"THEFT\"\n",
    "    \n",
    "**Task**: create an indicator `is_theft_notmotor` for any offense that contains the word \"THEFT\" but does not contain the word \"MOTOR\""
   ]
  },
  {
   "cell_type": "code",
   "execution_count": 24,
   "metadata": {},
   "outputs": [
    {
     "name": "stderr",
     "output_type": "stream",
     "text": [
      "/var/folders/9_/fcykl83s1dncqz69y6vx8b6w0000gn/T/ipykernel_1353/1067931183.py:4: DeprecationWarning: Calling nonzero on 0d arrays is deprecated, as it behaves surprisingly. Use `atleast_1d(arr).nonzero()` if the old behavior was intended.\n",
      "  df[\"is_theft_notmotor\"] = np.where(lambda x: x[\"OFFENSE\"].str.contains(\"THEFT\") & ~ x[\"OFFENSE\"].str.contains(\"MOTOR\"))\n"
     ]
    },
    {
     "ename": "ValueError",
     "evalue": "Length of values (1) does not match length of index (27931)",
     "output_type": "error",
     "traceback": [
      "\u001b[0;31m---------------------------------------------------------------------------\u001b[0m",
      "\u001b[0;31mValueError\u001b[0m                                Traceback (most recent call last)",
      "Cell \u001b[0;32mIn[24], line 4\u001b[0m\n\u001b[1;32m      1\u001b[0m is_theft \u001b[38;5;241m=\u001b[39m \u001b[38;5;28;01mlambda\u001b[39;00m x: x[\u001b[38;5;124m\"\u001b[39m\u001b[38;5;124mOFFENSE\u001b[39m\u001b[38;5;124m\"\u001b[39m]\u001b[38;5;241m.\u001b[39mstr\u001b[38;5;241m.\u001b[39mcontains(\u001b[38;5;124m\"\u001b[39m\u001b[38;5;124mTHEFT\u001b[39m\u001b[38;5;124m\"\u001b[39m)\n\u001b[1;32m      2\u001b[0m is_theft_notmotor \u001b[38;5;241m=\u001b[39m \u001b[38;5;28;01mlambda\u001b[39;00m x: x[\u001b[38;5;124m\"\u001b[39m\u001b[38;5;124mOFFENSE\u001b[39m\u001b[38;5;124m\"\u001b[39m]\u001b[38;5;241m.\u001b[39mstr\u001b[38;5;241m.\u001b[39mcontains(\u001b[38;5;124m\"\u001b[39m\u001b[38;5;124mTHEFT\u001b[39m\u001b[38;5;124m\"\u001b[39m) \u001b[38;5;241m&\u001b[39m \u001b[38;5;241m~\u001b[39m x[\u001b[38;5;124m\"\u001b[39m\u001b[38;5;124mOFFENSE\u001b[39m\u001b[38;5;124m\"\u001b[39m]\u001b[38;5;241m.\u001b[39mstr\u001b[38;5;241m.\u001b[39mcontains(\u001b[38;5;124m\"\u001b[39m\u001b[38;5;124mMOTOR\u001b[39m\u001b[38;5;124m\"\u001b[39m)\n\u001b[0;32m----> 4\u001b[0m df[\u001b[38;5;124m\"\u001b[39m\u001b[38;5;124mis_theft_notmotor\u001b[39m\u001b[38;5;124m\"\u001b[39m] \u001b[38;5;241m=\u001b[39m np\u001b[38;5;241m.\u001b[39mwhere(\u001b[38;5;28;01mlambda\u001b[39;00m x: x[\u001b[38;5;124m\"\u001b[39m\u001b[38;5;124mOFFENSE\u001b[39m\u001b[38;5;124m\"\u001b[39m]\u001b[38;5;241m.\u001b[39mstr\u001b[38;5;241m.\u001b[39mcontains(\u001b[38;5;124m\"\u001b[39m\u001b[38;5;124mTHEFT\u001b[39m\u001b[38;5;124m\"\u001b[39m) \u001b[38;5;241m&\u001b[39m \u001b[38;5;241m~\u001b[39m x[\u001b[38;5;124m\"\u001b[39m\u001b[38;5;124mOFFENSE\u001b[39m\u001b[38;5;124m\"\u001b[39m]\u001b[38;5;241m.\u001b[39mstr\u001b[38;5;241m.\u001b[39mcontains(\u001b[38;5;124m\"\u001b[39m\u001b[38;5;124mMOTOR\u001b[39m\u001b[38;5;124m\"\u001b[39m))\n\u001b[1;32m      5\u001b[0m df[\u001b[38;5;124m\"\u001b[39m\u001b[38;5;124mis_theft_notmotor\u001b[39m\u001b[38;5;124m\"\u001b[39m]\n",
      "File \u001b[0;32m/opt/anaconda3/lib/python3.12/site-packages/pandas/core/frame.py:4311\u001b[0m, in \u001b[0;36mDataFrame.__setitem__\u001b[0;34m(self, key, value)\u001b[0m\n\u001b[1;32m   4308\u001b[0m     \u001b[38;5;28mself\u001b[39m\u001b[38;5;241m.\u001b[39m_setitem_array([key], value)\n\u001b[1;32m   4309\u001b[0m \u001b[38;5;28;01melse\u001b[39;00m:\n\u001b[1;32m   4310\u001b[0m     \u001b[38;5;66;03m# set column\u001b[39;00m\n\u001b[0;32m-> 4311\u001b[0m     \u001b[38;5;28mself\u001b[39m\u001b[38;5;241m.\u001b[39m_set_item(key, value)\n",
      "File \u001b[0;32m/opt/anaconda3/lib/python3.12/site-packages/pandas/core/frame.py:4524\u001b[0m, in \u001b[0;36mDataFrame._set_item\u001b[0;34m(self, key, value)\u001b[0m\n\u001b[1;32m   4514\u001b[0m \u001b[38;5;28;01mdef\u001b[39;00m \u001b[38;5;21m_set_item\u001b[39m(\u001b[38;5;28mself\u001b[39m, key, value) \u001b[38;5;241m-\u001b[39m\u001b[38;5;241m>\u001b[39m \u001b[38;5;28;01mNone\u001b[39;00m:\n\u001b[1;32m   4515\u001b[0m \u001b[38;5;250m    \u001b[39m\u001b[38;5;124;03m\"\"\"\u001b[39;00m\n\u001b[1;32m   4516\u001b[0m \u001b[38;5;124;03m    Add series to DataFrame in specified column.\u001b[39;00m\n\u001b[1;32m   4517\u001b[0m \n\u001b[0;32m   (...)\u001b[0m\n\u001b[1;32m   4522\u001b[0m \u001b[38;5;124;03m    ensure homogeneity.\u001b[39;00m\n\u001b[1;32m   4523\u001b[0m \u001b[38;5;124;03m    \"\"\"\u001b[39;00m\n\u001b[0;32m-> 4524\u001b[0m     value, refs \u001b[38;5;241m=\u001b[39m \u001b[38;5;28mself\u001b[39m\u001b[38;5;241m.\u001b[39m_sanitize_column(value)\n\u001b[1;32m   4526\u001b[0m     \u001b[38;5;28;01mif\u001b[39;00m (\n\u001b[1;32m   4527\u001b[0m         key \u001b[38;5;129;01min\u001b[39;00m \u001b[38;5;28mself\u001b[39m\u001b[38;5;241m.\u001b[39mcolumns\n\u001b[1;32m   4528\u001b[0m         \u001b[38;5;129;01mand\u001b[39;00m value\u001b[38;5;241m.\u001b[39mndim \u001b[38;5;241m==\u001b[39m \u001b[38;5;241m1\u001b[39m\n\u001b[1;32m   4529\u001b[0m         \u001b[38;5;129;01mand\u001b[39;00m \u001b[38;5;129;01mnot\u001b[39;00m \u001b[38;5;28misinstance\u001b[39m(value\u001b[38;5;241m.\u001b[39mdtype, ExtensionDtype)\n\u001b[1;32m   4530\u001b[0m     ):\n\u001b[1;32m   4531\u001b[0m         \u001b[38;5;66;03m# broadcast across multiple columns if necessary\u001b[39;00m\n\u001b[1;32m   4532\u001b[0m         \u001b[38;5;28;01mif\u001b[39;00m \u001b[38;5;129;01mnot\u001b[39;00m \u001b[38;5;28mself\u001b[39m\u001b[38;5;241m.\u001b[39mcolumns\u001b[38;5;241m.\u001b[39mis_unique \u001b[38;5;129;01mor\u001b[39;00m \u001b[38;5;28misinstance\u001b[39m(\u001b[38;5;28mself\u001b[39m\u001b[38;5;241m.\u001b[39mcolumns, MultiIndex):\n",
      "File \u001b[0;32m/opt/anaconda3/lib/python3.12/site-packages/pandas/core/frame.py:5266\u001b[0m, in \u001b[0;36mDataFrame._sanitize_column\u001b[0;34m(self, value)\u001b[0m\n\u001b[1;32m   5263\u001b[0m     \u001b[38;5;28;01mreturn\u001b[39;00m _reindex_for_setitem(value, \u001b[38;5;28mself\u001b[39m\u001b[38;5;241m.\u001b[39mindex)\n\u001b[1;32m   5265\u001b[0m \u001b[38;5;28;01mif\u001b[39;00m is_list_like(value):\n\u001b[0;32m-> 5266\u001b[0m     com\u001b[38;5;241m.\u001b[39mrequire_length_match(value, \u001b[38;5;28mself\u001b[39m\u001b[38;5;241m.\u001b[39mindex)\n\u001b[1;32m   5267\u001b[0m arr \u001b[38;5;241m=\u001b[39m sanitize_array(value, \u001b[38;5;28mself\u001b[39m\u001b[38;5;241m.\u001b[39mindex, copy\u001b[38;5;241m=\u001b[39m\u001b[38;5;28;01mTrue\u001b[39;00m, allow_2d\u001b[38;5;241m=\u001b[39m\u001b[38;5;28;01mTrue\u001b[39;00m)\n\u001b[1;32m   5268\u001b[0m \u001b[38;5;28;01mif\u001b[39;00m (\n\u001b[1;32m   5269\u001b[0m     \u001b[38;5;28misinstance\u001b[39m(value, Index)\n\u001b[1;32m   5270\u001b[0m     \u001b[38;5;129;01mand\u001b[39;00m value\u001b[38;5;241m.\u001b[39mdtype \u001b[38;5;241m==\u001b[39m \u001b[38;5;124m\"\u001b[39m\u001b[38;5;124mobject\u001b[39m\u001b[38;5;124m\"\u001b[39m\n\u001b[0;32m   (...)\u001b[0m\n\u001b[1;32m   5273\u001b[0m     \u001b[38;5;66;03m# TODO: Remove kludge in sanitize_array for string mode when enforcing\u001b[39;00m\n\u001b[1;32m   5274\u001b[0m     \u001b[38;5;66;03m# this deprecation\u001b[39;00m\n",
      "File \u001b[0;32m/opt/anaconda3/lib/python3.12/site-packages/pandas/core/common.py:573\u001b[0m, in \u001b[0;36mrequire_length_match\u001b[0;34m(data, index)\u001b[0m\n\u001b[1;32m    569\u001b[0m \u001b[38;5;250m\u001b[39m\u001b[38;5;124;03m\"\"\"\u001b[39;00m\n\u001b[1;32m    570\u001b[0m \u001b[38;5;124;03mCheck the length of data matches the length of the index.\u001b[39;00m\n\u001b[1;32m    571\u001b[0m \u001b[38;5;124;03m\"\"\"\u001b[39;00m\n\u001b[1;32m    572\u001b[0m \u001b[38;5;28;01mif\u001b[39;00m \u001b[38;5;28mlen\u001b[39m(data) \u001b[38;5;241m!=\u001b[39m \u001b[38;5;28mlen\u001b[39m(index):\n\u001b[0;32m--> 573\u001b[0m     \u001b[38;5;28;01mraise\u001b[39;00m \u001b[38;5;167;01mValueError\u001b[39;00m(\n\u001b[1;32m    574\u001b[0m         \u001b[38;5;124m\"\u001b[39m\u001b[38;5;124mLength of values \u001b[39m\u001b[38;5;124m\"\u001b[39m\n\u001b[1;32m    575\u001b[0m         \u001b[38;5;124mf\u001b[39m\u001b[38;5;124m\"\u001b[39m\u001b[38;5;124m(\u001b[39m\u001b[38;5;132;01m{\u001b[39;00m\u001b[38;5;28mlen\u001b[39m(data)\u001b[38;5;132;01m}\u001b[39;00m\u001b[38;5;124m) \u001b[39m\u001b[38;5;124m\"\u001b[39m\n\u001b[1;32m    576\u001b[0m         \u001b[38;5;124m\"\u001b[39m\u001b[38;5;124mdoes not match length of index \u001b[39m\u001b[38;5;124m\"\u001b[39m\n\u001b[1;32m    577\u001b[0m         \u001b[38;5;124mf\u001b[39m\u001b[38;5;124m\"\u001b[39m\u001b[38;5;124m(\u001b[39m\u001b[38;5;132;01m{\u001b[39;00m\u001b[38;5;28mlen\u001b[39m(index)\u001b[38;5;132;01m}\u001b[39;00m\u001b[38;5;124m)\u001b[39m\u001b[38;5;124m\"\u001b[39m\n\u001b[1;32m    578\u001b[0m     )\n",
      "\u001b[0;31mValueError\u001b[0m: Length of values (1) does not match length of index (27931)"
     ]
    }
   ],
   "source": [
    "is_theft = lambda x: x[\"OFFENSE\"].str.contains(\"THEFT\")\n",
    "is_theft_notmotor = lambda x: x[\"OFFENSE\"].str.contains(\"THEFT\") & ~ x[\"OFFENSE\"].str.contains(\"MOTOR\")\n",
    "\n",
    "df[\"is_theft_notmotor\"] = np.where(lambda x: x[\"OFFENSE\"].str.contains(\"THEFT\") & ~ x[\"OFFENSE\"].str.contains(\"MOTOR\"))\n",
    "df[\"is_theft_notmotor\"]"
   ]
  },
  {
   "cell_type": "markdown",
   "metadata": {},
   "source": [
    "### np.select\n",
    "\n",
    "**Task**: create a new variable, `offense_summary`, where you:\n",
    "        \n",
    "- Recode theft offenses that use a gun or knife as the method (`METHOD`) as: violent theft\n",
    "- Recode non-theft offenses that use a gun or knife as the method as: violent other\n",
    "- Recode all other as non-violent "
   ]
  },
  {
   "cell_type": "code",
   "execution_count": 28,
   "metadata": {},
   "outputs": [],
   "source": [
    "categories = [\"Violet Theft\",\"Violent Other\"]\n",
    "conditions = [(df.METHOD.str.contains(\"GUN|KNIFE\")) & (df.OFFENSE.str.contains(\"THEFT\")),\n",
    "              (df.METHOD.str.contains(\"GUN|KNIFE\")) &~  (df.OFFENSE.str.contains(\"THEFT\"))]\n",
    "df[\"offense_summary\"] = np.select(conditions,categories,default=\"Non-Violent\")"
   ]
  },
  {
   "cell_type": "code",
   "execution_count": 30,
   "metadata": {},
   "outputs": [
    {
     "data": {
      "text/plain": [
       "0          Non-Violent\n",
       "1        Violent Other\n",
       "2          Non-Violent\n",
       "3          Non-Violent\n",
       "4          Non-Violent\n",
       "             ...      \n",
       "27926      Non-Violent\n",
       "27927      Non-Violent\n",
       "27928      Non-Violent\n",
       "27929      Non-Violent\n",
       "27930      Non-Violent\n",
       "Name: offense_summary, Length: 27931, dtype: object"
      ]
     },
     "execution_count": 30,
     "metadata": {},
     "output_type": "execute_result"
    }
   ],
   "source": [
    "df[\"offense_summary\"]"
   ]
  },
  {
   "cell_type": "markdown",
   "metadata": {},
   "source": [
    "### map.recode\n",
    "\n",
    "**Task**: recode shifts that are MIDNIGHT or EVENING as \"nighttime\"; code other shift to daytime"
   ]
  },
  {
   "cell_type": "code",
   "execution_count": 33,
   "metadata": {},
   "outputs": [
    {
     "data": {
      "text/plain": [
       "0          Daytime\n",
       "1          Daytime\n",
       "2        Nighttime\n",
       "3        Nighttime\n",
       "4        Nighttime\n",
       "           ...    \n",
       "27926    Nighttime\n",
       "27927    Nighttime\n",
       "27928    Nighttime\n",
       "27929    Nighttime\n",
       "27930      Daytime\n",
       "Name: time_of_day, Length: 27931, dtype: object"
      ]
     },
     "execution_count": 33,
     "metadata": {},
     "output_type": "execute_result"
    }
   ],
   "source": [
    "cats = [\"Nighttime\", \"Nighttime\",\"Daytime\"]\n",
    "conds = [\"EVENING\",\"MIDNIGHT\",\"DAY\"]\n",
    "conversion = dict(zip(conds,cats))\n",
    "df[\"time_of_day\"] = df[\"SHIFT\"].map(conversion)\n",
    "df[\"time_of_day\"]"
   ]
  },
  {
   "cell_type": "markdown",
   "metadata": {},
   "source": [
    "### Using built-in pandas methods\n",
    "\n",
    "Another way of creating variables, used either alone or in combination with np.where and np.select is to use pandas built in `str` methods\n",
    "\n",
    "Basic structure is: `df['namestringcol'].str.someoperation`"
   ]
  },
  {
   "cell_type": "markdown",
   "metadata": {},
   "source": [
    "**Task**: using a `str` method, create a new variable--`OFFENSE_NOSP`--that replaces spaces in the `OFFENSE` column with underscores"
   ]
  },
  {
   "cell_type": "code",
   "execution_count": 37,
   "metadata": {},
   "outputs": [
    {
     "data": {
      "text/plain": [
       "0                      THEFT_F/AUTO\n",
       "1        ASSAULT_W/DANGEROUS_WEAPON\n",
       "2                       THEFT/OTHER\n",
       "3                       THEFT/OTHER\n",
       "4                       THEFT/OTHER\n",
       "                    ...            \n",
       "27926                   THEFT/OTHER\n",
       "27927                  THEFT_F/AUTO\n",
       "27928                   THEFT/OTHER\n",
       "27929                   THEFT/OTHER\n",
       "27930                  THEFT_F/AUTO\n",
       "Name: OFFENSE, Length: 27931, dtype: object"
      ]
     },
     "execution_count": 37,
     "metadata": {},
     "output_type": "execute_result"
    }
   ],
   "source": [
    "df[\"OFFENSE\"].str.replace(\" \",\"_\")"
   ]
  },
  {
   "cell_type": "markdown",
   "metadata": {},
   "source": [
    "### Transforming column types\n",
    "\n",
    "**Task**: check the type of the `START_DATE` column"
   ]
  },
  {
   "cell_type": "code",
   "execution_count": 40,
   "metadata": {},
   "outputs": [
    {
     "data": {
      "text/plain": [
       "dtype('O')"
      ]
     },
     "execution_count": 40,
     "metadata": {},
     "output_type": "execute_result"
    }
   ],
   "source": [
    "df[\"START_DATE\"].dtype"
   ]
  },
  {
   "cell_type": "markdown",
   "metadata": {},
   "source": [
    "**Task**: recast the `START_DATE` column to datetime, calling this `START_DATE_CLEAN`; coerce errors rather than cleaning the string; check the type of that new col"
   ]
  },
  {
   "cell_type": "code",
   "execution_count": 43,
   "metadata": {},
   "outputs": [
    {
     "data": {
      "text/plain": [
       "datetime64[ns, UTC]"
      ]
     },
     "execution_count": 43,
     "metadata": {},
     "output_type": "execute_result"
    }
   ],
   "source": [
    "df[\"START_DATE_CLEAN\"] = pd.to_datetime(df[\"START_DATE\"])\n",
    "df[\"START_DATE_CLEAN\"].dtype"
   ]
  },
  {
   "cell_type": "markdown",
   "metadata": {},
   "source": [
    "**Task:** print the min and max of `START_DATE_CLEAN`. What happens if you try to do this with `START_DATE`?"
   ]
  },
  {
   "cell_type": "code",
   "execution_count": 46,
   "metadata": {},
   "outputs": [
    {
     "name": "stdout",
     "output_type": "stream",
     "text": [
      "1940-02-17 00:00:16+00:00 2021-01-01 02:30:21+00:00\n",
      "1940/02/17 00:00:16+00 2021/01/01 02:30:21+00\n"
     ]
    }
   ],
   "source": [
    "print(df[\"START_DATE_CLEAN\"].min(), df[\"START_DATE_CLEAN\"].max())\n",
    "print(df[\"START_DATE\"].min(), df[\"START_DATE\"].max())"
   ]
  },
  {
   "cell_type": "markdown",
   "metadata": {},
   "source": [
    "## 3. Row and column filtering "
   ]
  },
  {
   "cell_type": "markdown",
   "metadata": {},
   "source": [
    "### Row subsetting\n",
    "\n",
    "**Task**: filter to crime reports about theft using the `is_theft` definition and that are in ward 3"
   ]
  },
  {
   "cell_type": "code",
   "execution_count": 50,
   "metadata": {},
   "outputs": [
    {
     "data": {
      "text/html": [
       "<div>\n",
       "<style scoped>\n",
       "    .dataframe tbody tr th:only-of-type {\n",
       "        vertical-align: middle;\n",
       "    }\n",
       "\n",
       "    .dataframe tbody tr th {\n",
       "        vertical-align: top;\n",
       "    }\n",
       "\n",
       "    .dataframe thead th {\n",
       "        text-align: right;\n",
       "    }\n",
       "</style>\n",
       "<table border=\"1\" class=\"dataframe\">\n",
       "  <thead>\n",
       "    <tr style=\"text-align: right;\">\n",
       "      <th></th>\n",
       "      <th>X</th>\n",
       "      <th>Y</th>\n",
       "      <th>CCN</th>\n",
       "      <th>REPORT_DAT</th>\n",
       "      <th>SHIFT</th>\n",
       "      <th>METHOD</th>\n",
       "      <th>OFFENSE</th>\n",
       "      <th>BLOCK</th>\n",
       "      <th>XBLOCK</th>\n",
       "      <th>YBLOCK</th>\n",
       "      <th>...</th>\n",
       "      <th>LATITUDE</th>\n",
       "      <th>LONGITUDE</th>\n",
       "      <th>BID</th>\n",
       "      <th>START_DATE</th>\n",
       "      <th>END_DATE</th>\n",
       "      <th>OBJECTID</th>\n",
       "      <th>OCTO_RECORD_ID</th>\n",
       "      <th>offense_summary</th>\n",
       "      <th>time_of_day</th>\n",
       "      <th>START_DATE_CLEAN</th>\n",
       "    </tr>\n",
       "  </thead>\n",
       "  <tbody>\n",
       "    <tr>\n",
       "      <th>21</th>\n",
       "      <td>22.926801</td>\n",
       "      <td>38.926863</td>\n",
       "      <td>20060740</td>\n",
       "      <td>2020/04/19 05:54:37+00</td>\n",
       "      <td>MIDNIGHT</td>\n",
       "      <td>OTHERS</td>\n",
       "      <td>THEFT F/AUTO</td>\n",
       "      <td>2800 - 2899 BLOCK OF WISCONSIN AVENUE NW</td>\n",
       "      <td>393653.0</td>\n",
       "      <td>139889.0</td>\n",
       "      <td>...</td>\n",
       "      <td>38.926855</td>\n",
       "      <td>-77.073197</td>\n",
       "      <td>NaN</td>\n",
       "      <td>2020/04/18 19:25:52+00</td>\n",
       "      <td>2020/04/18 19:31:53+00</td>\n",
       "      <td>673720665</td>\n",
       "      <td>NaN</td>\n",
       "      <td>Non-Violent</td>\n",
       "      <td>Nighttime</td>\n",
       "      <td>2020-04-18 19:25:52+00:00</td>\n",
       "    </tr>\n",
       "    <tr>\n",
       "      <th>32</th>\n",
       "      <td>22.930927</td>\n",
       "      <td>38.917353</td>\n",
       "      <td>20017305</td>\n",
       "      <td>2020/01/29 12:46:24+00</td>\n",
       "      <td>DAY</td>\n",
       "      <td>OTHERS</td>\n",
       "      <td>THEFT F/AUTO</td>\n",
       "      <td>2001 - 2112 BLOCK OF WISCONSIN AVENUE NW</td>\n",
       "      <td>394010.0</td>\n",
       "      <td>138833.0</td>\n",
       "      <td>...</td>\n",
       "      <td>38.917345</td>\n",
       "      <td>-77.069071</td>\n",
       "      <td>NaN</td>\n",
       "      <td>2020/01/29 04:09:37+00</td>\n",
       "      <td>2020/01/29 10:45:16+00</td>\n",
       "      <td>673714145</td>\n",
       "      <td>NaN</td>\n",
       "      <td>Non-Violent</td>\n",
       "      <td>Daytime</td>\n",
       "      <td>2020-01-29 04:09:37+00:00</td>\n",
       "    </tr>\n",
       "    <tr>\n",
       "      <th>36</th>\n",
       "      <td>22.936080</td>\n",
       "      <td>38.944876</td>\n",
       "      <td>20001669</td>\n",
       "      <td>2020/01/03 20:32:51+00</td>\n",
       "      <td>EVENING</td>\n",
       "      <td>OTHERS</td>\n",
       "      <td>THEFT/OTHER</td>\n",
       "      <td>4200 - 4399 BLOCK OF CONNECTICUT AVENUE NW</td>\n",
       "      <td>394459.0</td>\n",
       "      <td>141888.0</td>\n",
       "      <td>...</td>\n",
       "      <td>38.944868</td>\n",
       "      <td>-77.063918</td>\n",
       "      <td>NaN</td>\n",
       "      <td>2020/01/03 19:51:36+00</td>\n",
       "      <td>NaN</td>\n",
       "      <td>673713219</td>\n",
       "      <td>NaN</td>\n",
       "      <td>Non-Violent</td>\n",
       "      <td>Nighttime</td>\n",
       "      <td>2020-01-03 19:51:36+00:00</td>\n",
       "    </tr>\n",
       "    <tr>\n",
       "      <th>73</th>\n",
       "      <td>22.924173</td>\n",
       "      <td>38.947094</td>\n",
       "      <td>20047077</td>\n",
       "      <td>2020/03/18 01:07:16+00</td>\n",
       "      <td>EVENING</td>\n",
       "      <td>OTHERS</td>\n",
       "      <td>THEFT F/AUTO</td>\n",
       "      <td>3800 - 3899 BLOCK OF ALTON PLACE NW</td>\n",
       "      <td>393427.0</td>\n",
       "      <td>142135.0</td>\n",
       "      <td>...</td>\n",
       "      <td>38.947086</td>\n",
       "      <td>-77.075825</td>\n",
       "      <td>NaN</td>\n",
       "      <td>2020/03/17 16:00:30+00</td>\n",
       "      <td>2020/03/17 17:00:07+00</td>\n",
       "      <td>673691568</td>\n",
       "      <td>NaN</td>\n",
       "      <td>Non-Violent</td>\n",
       "      <td>Nighttime</td>\n",
       "      <td>2020-03-17 16:00:30+00:00</td>\n",
       "    </tr>\n",
       "    <tr>\n",
       "      <th>110</th>\n",
       "      <td>22.900127</td>\n",
       "      <td>38.942211</td>\n",
       "      <td>20048137</td>\n",
       "      <td>2020/03/19 19:50:08+00</td>\n",
       "      <td>EVENING</td>\n",
       "      <td>OTHERS</td>\n",
       "      <td>THEFT F/AUTO</td>\n",
       "      <td>5000 - 5101 BLOCK OF UPTON STREET NW</td>\n",
       "      <td>391342.0</td>\n",
       "      <td>141595.0</td>\n",
       "      <td>...</td>\n",
       "      <td>38.942204</td>\n",
       "      <td>-77.099870</td>\n",
       "      <td>NaN</td>\n",
       "      <td>2020/03/19 17:00:11+00</td>\n",
       "      <td>2020/03/19 18:30:17+00</td>\n",
       "      <td>673716925</td>\n",
       "      <td>NaN</td>\n",
       "      <td>Non-Violent</td>\n",
       "      <td>Nighttime</td>\n",
       "      <td>2020-03-19 17:00:11+00:00</td>\n",
       "    </tr>\n",
       "    <tr>\n",
       "      <th>...</th>\n",
       "      <td>...</td>\n",
       "      <td>...</td>\n",
       "      <td>...</td>\n",
       "      <td>...</td>\n",
       "      <td>...</td>\n",
       "      <td>...</td>\n",
       "      <td>...</td>\n",
       "      <td>...</td>\n",
       "      <td>...</td>\n",
       "      <td>...</td>\n",
       "      <td>...</td>\n",
       "      <td>...</td>\n",
       "      <td>...</td>\n",
       "      <td>...</td>\n",
       "      <td>...</td>\n",
       "      <td>...</td>\n",
       "      <td>...</td>\n",
       "      <td>...</td>\n",
       "      <td>...</td>\n",
       "      <td>...</td>\n",
       "      <td>...</td>\n",
       "    </tr>\n",
       "    <tr>\n",
       "      <th>27849</th>\n",
       "      <td>22.942735</td>\n",
       "      <td>38.930854</td>\n",
       "      <td>20400842</td>\n",
       "      <td>2020/06/24 17:19:20+00</td>\n",
       "      <td>DAY</td>\n",
       "      <td>OTHERS</td>\n",
       "      <td>THEFT/OTHER</td>\n",
       "      <td>2700 - 2799 BLOCK OF CORTLAND PLACE NW</td>\n",
       "      <td>395035.0</td>\n",
       "      <td>140331.0</td>\n",
       "      <td>...</td>\n",
       "      <td>38.930846</td>\n",
       "      <td>-77.057262</td>\n",
       "      <td>NaN</td>\n",
       "      <td>2020/06/22 12:00:00+00</td>\n",
       "      <td>2020/06/22 21:00:00+00</td>\n",
       "      <td>674255149</td>\n",
       "      <td>NaN</td>\n",
       "      <td>Non-Violent</td>\n",
       "      <td>Daytime</td>\n",
       "      <td>2020-06-22 12:00:00+00:00</td>\n",
       "    </tr>\n",
       "    <tr>\n",
       "      <th>27897</th>\n",
       "      <td>22.913026</td>\n",
       "      <td>38.959040</td>\n",
       "      <td>20059783</td>\n",
       "      <td>2020/04/16 21:22:42+00</td>\n",
       "      <td>EVENING</td>\n",
       "      <td>OTHERS</td>\n",
       "      <td>MOTOR VEHICLE THEFT</td>\n",
       "      <td>4400 - 4499 BLOCK OF JENIFER STREET NW</td>\n",
       "      <td>392462.0</td>\n",
       "      <td>143462.0</td>\n",
       "      <td>...</td>\n",
       "      <td>38.959032</td>\n",
       "      <td>-77.086972</td>\n",
       "      <td>NaN</td>\n",
       "      <td>2020/03/28 01:55:01+00</td>\n",
       "      <td>2020/03/28 02:05:22+00</td>\n",
       "      <td>674255394</td>\n",
       "      <td>NaN</td>\n",
       "      <td>Non-Violent</td>\n",
       "      <td>Nighttime</td>\n",
       "      <td>2020-03-28 01:55:01+00:00</td>\n",
       "    </tr>\n",
       "    <tr>\n",
       "      <th>27925</th>\n",
       "      <td>22.940343</td>\n",
       "      <td>38.937528</td>\n",
       "      <td>20401829</td>\n",
       "      <td>2020/11/15 18:53:56+00</td>\n",
       "      <td>DAY</td>\n",
       "      <td>OTHERS</td>\n",
       "      <td>THEFT/OTHER</td>\n",
       "      <td>3600 - 3699 BLOCK OF CONNECTICUT AVENUE NW</td>\n",
       "      <td>394828.0</td>\n",
       "      <td>141072.0</td>\n",
       "      <td>...</td>\n",
       "      <td>38.937520</td>\n",
       "      <td>-77.059655</td>\n",
       "      <td>NaN</td>\n",
       "      <td>2020/10/31 18:30:00+00</td>\n",
       "      <td>2020/11/08 18:30:00+00</td>\n",
       "      <td>674255554</td>\n",
       "      <td>NaN</td>\n",
       "      <td>Non-Violent</td>\n",
       "      <td>Daytime</td>\n",
       "      <td>2020-10-31 18:30:00+00:00</td>\n",
       "    </tr>\n",
       "    <tr>\n",
       "      <th>27926</th>\n",
       "      <td>22.900569</td>\n",
       "      <td>38.923051</td>\n",
       "      <td>20031083</td>\n",
       "      <td>2020/02/20 22:41:51+00</td>\n",
       "      <td>EVENING</td>\n",
       "      <td>OTHERS</td>\n",
       "      <td>THEFT/OTHER</td>\n",
       "      <td>5000 - 5099 BLOCK OF MACARTHUR COURT NW</td>\n",
       "      <td>391378.0</td>\n",
       "      <td>139468.0</td>\n",
       "      <td>...</td>\n",
       "      <td>38.923043</td>\n",
       "      <td>-77.099428</td>\n",
       "      <td>NaN</td>\n",
       "      <td>2020/02/13 21:07:38+00</td>\n",
       "      <td>2020/02/20 12:00:55+00</td>\n",
       "      <td>674255559</td>\n",
       "      <td>NaN</td>\n",
       "      <td>Non-Violent</td>\n",
       "      <td>Nighttime</td>\n",
       "      <td>2020-02-13 21:07:38+00:00</td>\n",
       "    </tr>\n",
       "    <tr>\n",
       "      <th>27929</th>\n",
       "      <td>22.940778</td>\n",
       "      <td>38.926646</td>\n",
       "      <td>20401320</td>\n",
       "      <td>2020/09/05 19:49:00+00</td>\n",
       "      <td>EVENING</td>\n",
       "      <td>OTHERS</td>\n",
       "      <td>THEFT/OTHER</td>\n",
       "      <td>2910 - 2999 BLOCK OF GARFIELD STREET NW</td>\n",
       "      <td>394865.0</td>\n",
       "      <td>139864.0</td>\n",
       "      <td>...</td>\n",
       "      <td>38.926638</td>\n",
       "      <td>-77.059219</td>\n",
       "      <td>NaN</td>\n",
       "      <td>2020/09/04 22:00:00+00</td>\n",
       "      <td>2020/09/05 13:00:00+00</td>\n",
       "      <td>674255588</td>\n",
       "      <td>NaN</td>\n",
       "      <td>Non-Violent</td>\n",
       "      <td>Nighttime</td>\n",
       "      <td>2020-09-04 22:00:00+00:00</td>\n",
       "    </tr>\n",
       "  </tbody>\n",
       "</table>\n",
       "<p>1522 rows × 28 columns</p>\n",
       "</div>"
      ],
      "text/plain": [
       "               X          Y       CCN              REPORT_DAT     SHIFT  \\\n",
       "21     22.926801  38.926863  20060740  2020/04/19 05:54:37+00  MIDNIGHT   \n",
       "32     22.930927  38.917353  20017305  2020/01/29 12:46:24+00       DAY   \n",
       "36     22.936080  38.944876  20001669  2020/01/03 20:32:51+00   EVENING   \n",
       "73     22.924173  38.947094  20047077  2020/03/18 01:07:16+00   EVENING   \n",
       "110    22.900127  38.942211  20048137  2020/03/19 19:50:08+00   EVENING   \n",
       "...          ...        ...       ...                     ...       ...   \n",
       "27849  22.942735  38.930854  20400842  2020/06/24 17:19:20+00       DAY   \n",
       "27897  22.913026  38.959040  20059783  2020/04/16 21:22:42+00   EVENING   \n",
       "27925  22.940343  38.937528  20401829  2020/11/15 18:53:56+00       DAY   \n",
       "27926  22.900569  38.923051  20031083  2020/02/20 22:41:51+00   EVENING   \n",
       "27929  22.940778  38.926646  20401320  2020/09/05 19:49:00+00   EVENING   \n",
       "\n",
       "       METHOD              OFFENSE  \\\n",
       "21     OTHERS         THEFT F/AUTO   \n",
       "32     OTHERS         THEFT F/AUTO   \n",
       "36     OTHERS          THEFT/OTHER   \n",
       "73     OTHERS         THEFT F/AUTO   \n",
       "110    OTHERS         THEFT F/AUTO   \n",
       "...       ...                  ...   \n",
       "27849  OTHERS          THEFT/OTHER   \n",
       "27897  OTHERS  MOTOR VEHICLE THEFT   \n",
       "27925  OTHERS          THEFT/OTHER   \n",
       "27926  OTHERS          THEFT/OTHER   \n",
       "27929  OTHERS          THEFT/OTHER   \n",
       "\n",
       "                                            BLOCK    XBLOCK    YBLOCK  ...  \\\n",
       "21       2800 - 2899 BLOCK OF WISCONSIN AVENUE NW  393653.0  139889.0  ...   \n",
       "32       2001 - 2112 BLOCK OF WISCONSIN AVENUE NW  394010.0  138833.0  ...   \n",
       "36     4200 - 4399 BLOCK OF CONNECTICUT AVENUE NW  394459.0  141888.0  ...   \n",
       "73            3800 - 3899 BLOCK OF ALTON PLACE NW  393427.0  142135.0  ...   \n",
       "110          5000 - 5101 BLOCK OF UPTON STREET NW  391342.0  141595.0  ...   \n",
       "...                                           ...       ...       ...  ...   \n",
       "27849      2700 - 2799 BLOCK OF CORTLAND PLACE NW  395035.0  140331.0  ...   \n",
       "27897      4400 - 4499 BLOCK OF JENIFER STREET NW  392462.0  143462.0  ...   \n",
       "27925  3600 - 3699 BLOCK OF CONNECTICUT AVENUE NW  394828.0  141072.0  ...   \n",
       "27926     5000 - 5099 BLOCK OF MACARTHUR COURT NW  391378.0  139468.0  ...   \n",
       "27929     2910 - 2999 BLOCK OF GARFIELD STREET NW  394865.0  139864.0  ...   \n",
       "\n",
       "        LATITUDE  LONGITUDE  BID              START_DATE  \\\n",
       "21     38.926855 -77.073197  NaN  2020/04/18 19:25:52+00   \n",
       "32     38.917345 -77.069071  NaN  2020/01/29 04:09:37+00   \n",
       "36     38.944868 -77.063918  NaN  2020/01/03 19:51:36+00   \n",
       "73     38.947086 -77.075825  NaN  2020/03/17 16:00:30+00   \n",
       "110    38.942204 -77.099870  NaN  2020/03/19 17:00:11+00   \n",
       "...          ...        ...  ...                     ...   \n",
       "27849  38.930846 -77.057262  NaN  2020/06/22 12:00:00+00   \n",
       "27897  38.959032 -77.086972  NaN  2020/03/28 01:55:01+00   \n",
       "27925  38.937520 -77.059655  NaN  2020/10/31 18:30:00+00   \n",
       "27926  38.923043 -77.099428  NaN  2020/02/13 21:07:38+00   \n",
       "27929  38.926638 -77.059219  NaN  2020/09/04 22:00:00+00   \n",
       "\n",
       "                     END_DATE   OBJECTID  OCTO_RECORD_ID offense_summary  \\\n",
       "21     2020/04/18 19:31:53+00  673720665             NaN     Non-Violent   \n",
       "32     2020/01/29 10:45:16+00  673714145             NaN     Non-Violent   \n",
       "36                        NaN  673713219             NaN     Non-Violent   \n",
       "73     2020/03/17 17:00:07+00  673691568             NaN     Non-Violent   \n",
       "110    2020/03/19 18:30:17+00  673716925             NaN     Non-Violent   \n",
       "...                       ...        ...             ...             ...   \n",
       "27849  2020/06/22 21:00:00+00  674255149             NaN     Non-Violent   \n",
       "27897  2020/03/28 02:05:22+00  674255394             NaN     Non-Violent   \n",
       "27925  2020/11/08 18:30:00+00  674255554             NaN     Non-Violent   \n",
       "27926  2020/02/20 12:00:55+00  674255559             NaN     Non-Violent   \n",
       "27929  2020/09/05 13:00:00+00  674255588             NaN     Non-Violent   \n",
       "\n",
       "       time_of_day          START_DATE_CLEAN  \n",
       "21       Nighttime 2020-04-18 19:25:52+00:00  \n",
       "32         Daytime 2020-01-29 04:09:37+00:00  \n",
       "36       Nighttime 2020-01-03 19:51:36+00:00  \n",
       "73       Nighttime 2020-03-17 16:00:30+00:00  \n",
       "110      Nighttime 2020-03-19 17:00:11+00:00  \n",
       "...            ...                       ...  \n",
       "27849      Daytime 2020-06-22 12:00:00+00:00  \n",
       "27897    Nighttime 2020-03-28 01:55:01+00:00  \n",
       "27925      Daytime 2020-10-31 18:30:00+00:00  \n",
       "27926    Nighttime 2020-02-13 21:07:38+00:00  \n",
       "27929    Nighttime 2020-09-04 22:00:00+00:00  \n",
       "\n",
       "[1522 rows x 28 columns]"
      ]
     },
     "execution_count": 50,
     "metadata": {},
     "output_type": "execute_result"
    }
   ],
   "source": [
    "df[ (is_theft(df) == True) & (df[\"WARD\"] == 3)]"
   ]
  },
  {
   "cell_type": "markdown",
   "metadata": {},
   "source": [
    "### Column subsetting\n"
   ]
  },
  {
   "cell_type": "markdown",
   "metadata": {},
   "source": [
    "**Task**: select two columns--`START_DATE` and `END_DATE`--and print the head of the dataframe"
   ]
  },
  {
   "cell_type": "code",
   "execution_count": 54,
   "metadata": {
    "scrolled": true
   },
   "outputs": [
    {
     "name": "stdout",
     "output_type": "stream",
     "text": [
      "               START_DATE                END_DATE\n",
      "0  2020/01/14 15:04:04+00                     NaN\n",
      "1  2020/01/14 17:17:37+00                     NaN\n",
      "2  2020/01/10 23:00:00+00  2020/01/14 18:00:44+00\n",
      "3  2020/01/15 02:31:24+00                     NaN\n",
      "4  2020/01/16 01:15:36+00  2020/01/16 01:19:54+00\n"
     ]
    }
   ],
   "source": [
    "selected_columns = df[['START_DATE', 'END_DATE']]\n",
    "print(selected_columns.head())"
   ]
  },
  {
   "cell_type": "markdown",
   "metadata": {},
   "source": [
    "**Task**: use list comprehension to automate this a bit and select all columns with the word \"DATE\" in the name; print the head of the dataframe"
   ]
  },
  {
   "cell_type": "code",
   "execution_count": 57,
   "metadata": {},
   "outputs": [
    {
     "data": {
      "text/html": [
       "<div>\n",
       "<style scoped>\n",
       "    .dataframe tbody tr th:only-of-type {\n",
       "        vertical-align: middle;\n",
       "    }\n",
       "\n",
       "    .dataframe tbody tr th {\n",
       "        vertical-align: top;\n",
       "    }\n",
       "\n",
       "    .dataframe thead th {\n",
       "        text-align: right;\n",
       "    }\n",
       "</style>\n",
       "<table border=\"1\" class=\"dataframe\">\n",
       "  <thead>\n",
       "    <tr style=\"text-align: right;\">\n",
       "      <th></th>\n",
       "      <th>START_DATE</th>\n",
       "      <th>END_DATE</th>\n",
       "      <th>START_DATE_CLEAN</th>\n",
       "    </tr>\n",
       "  </thead>\n",
       "  <tbody>\n",
       "    <tr>\n",
       "      <th>0</th>\n",
       "      <td>2020/01/14 15:04:04+00</td>\n",
       "      <td>NaN</td>\n",
       "      <td>2020-01-14 15:04:04+00:00</td>\n",
       "    </tr>\n",
       "    <tr>\n",
       "      <th>1</th>\n",
       "      <td>2020/01/14 17:17:37+00</td>\n",
       "      <td>NaN</td>\n",
       "      <td>2020-01-14 17:17:37+00:00</td>\n",
       "    </tr>\n",
       "    <tr>\n",
       "      <th>2</th>\n",
       "      <td>2020/01/10 23:00:00+00</td>\n",
       "      <td>2020/01/14 18:00:44+00</td>\n",
       "      <td>2020-01-10 23:00:00+00:00</td>\n",
       "    </tr>\n",
       "    <tr>\n",
       "      <th>3</th>\n",
       "      <td>2020/01/15 02:31:24+00</td>\n",
       "      <td>NaN</td>\n",
       "      <td>2020-01-15 02:31:24+00:00</td>\n",
       "    </tr>\n",
       "    <tr>\n",
       "      <th>4</th>\n",
       "      <td>2020/01/16 01:15:36+00</td>\n",
       "      <td>2020/01/16 01:19:54+00</td>\n",
       "      <td>2020-01-16 01:15:36+00:00</td>\n",
       "    </tr>\n",
       "  </tbody>\n",
       "</table>\n",
       "</div>"
      ],
      "text/plain": [
       "               START_DATE                END_DATE          START_DATE_CLEAN\n",
       "0  2020/01/14 15:04:04+00                     NaN 2020-01-14 15:04:04+00:00\n",
       "1  2020/01/14 17:17:37+00                     NaN 2020-01-14 17:17:37+00:00\n",
       "2  2020/01/10 23:00:00+00  2020/01/14 18:00:44+00 2020-01-10 23:00:00+00:00\n",
       "3  2020/01/15 02:31:24+00                     NaN 2020-01-15 02:31:24+00:00\n",
       "4  2020/01/16 01:15:36+00  2020/01/16 01:19:54+00 2020-01-16 01:15:36+00:00"
      ]
     },
     "execution_count": 57,
     "metadata": {},
     "output_type": "execute_result"
    }
   ],
   "source": [
    "list_df = df[ [col for col in df.columns if \"DATE\" in col]]\n",
    "list_df.head()"
   ]
  },
  {
   "cell_type": "markdown",
   "metadata": {},
   "source": [
    "**Task**: filter reports of crime in `START_DATE_CLEAN` before May 2020 and that are located in ward 1; select the ward and `START_DATE` column and print a random sample of rows"
   ]
  },
  {
   "cell_type": "code",
   "execution_count": 60,
   "metadata": {},
   "outputs": [
    {
     "data": {
      "text/html": [
       "<div>\n",
       "<style scoped>\n",
       "    .dataframe tbody tr th:only-of-type {\n",
       "        vertical-align: middle;\n",
       "    }\n",
       "\n",
       "    .dataframe tbody tr th {\n",
       "        vertical-align: top;\n",
       "    }\n",
       "\n",
       "    .dataframe thead th {\n",
       "        text-align: right;\n",
       "    }\n",
       "</style>\n",
       "<table border=\"1\" class=\"dataframe\">\n",
       "  <thead>\n",
       "    <tr style=\"text-align: right;\">\n",
       "      <th></th>\n",
       "      <th>WARD</th>\n",
       "      <th>START_DATE_CLEAN</th>\n",
       "    </tr>\n",
       "  </thead>\n",
       "  <tbody>\n",
       "    <tr>\n",
       "      <th>8001</th>\n",
       "      <td>1</td>\n",
       "      <td>2020-01-13 00:08:52+00:00</td>\n",
       "    </tr>\n",
       "    <tr>\n",
       "      <th>12484</th>\n",
       "      <td>1</td>\n",
       "      <td>2020-01-25 01:33:39+00:00</td>\n",
       "    </tr>\n",
       "    <tr>\n",
       "      <th>22499</th>\n",
       "      <td>1</td>\n",
       "      <td>2020-02-12 20:12:53+00:00</td>\n",
       "    </tr>\n",
       "    <tr>\n",
       "      <th>11044</th>\n",
       "      <td>1</td>\n",
       "      <td>2020-02-25 21:45:57+00:00</td>\n",
       "    </tr>\n",
       "    <tr>\n",
       "      <th>17931</th>\n",
       "      <td>1</td>\n",
       "      <td>2020-01-25 20:00:21+00:00</td>\n",
       "    </tr>\n",
       "  </tbody>\n",
       "</table>\n",
       "</div>"
      ],
      "text/plain": [
       "       WARD          START_DATE_CLEAN\n",
       "8001      1 2020-01-13 00:08:52+00:00\n",
       "12484     1 2020-01-25 01:33:39+00:00\n",
       "22499     1 2020-02-12 20:12:53+00:00\n",
       "11044     1 2020-02-25 21:45:57+00:00\n",
       "17931     1 2020-01-25 20:00:21+00:00"
      ]
     },
     "execution_count": 60,
     "metadata": {},
     "output_type": "execute_result"
    }
   ],
   "source": [
    "filtered = df[ (df[\"START_DATE_CLEAN\"] < pd.to_datetime(\"2020/05/01 12:00:00+00\")) & (df[\"WARD\"] == 1)]\n",
    "filtered[[\"WARD\", \"START_DATE_CLEAN\"]].sample(5)"
   ]
  },
  {
   "cell_type": "code",
   "execution_count": 62,
   "metadata": {},
   "outputs": [
    {
     "name": "stdout",
     "output_type": "stream",
     "text": [
      "awwra\n"
     ]
    }
   ],
   "source": []
  },
  {
   "cell_type": "code",
   "execution_count": null,
   "metadata": {},
   "outputs": [],
   "source": []
  }
 ],
 "metadata": {
  "kernelspec": {
   "display_name": "Python [conda env:base] *",
   "language": "python",
   "name": "conda-base-py"
  },
  "language_info": {
   "codemirror_mode": {
    "name": "ipython",
    "version": 3
   },
   "file_extension": ".py",
   "mimetype": "text/x-python",
   "name": "python",
   "nbconvert_exporter": "python",
   "pygments_lexer": "ipython3",
   "version": "3.12.2"
  }
 },
 "nbformat": 4,
 "nbformat_minor": 4
}
