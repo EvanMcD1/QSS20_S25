{
 "cells": [
  {
   "cell_type": "markdown",
   "metadata": {},
   "source": [
    "# Problem Set 1: Analysis of racial disparities in felony sentencing"
   ]
  },
  {
   "cell_type": "markdown",
   "metadata": {},
   "source": [
    "# 0. Load packages and imports"
   ]
  },
  {
   "cell_type": "code",
   "execution_count": 8,
   "metadata": {},
   "outputs": [],
   "source": [
    "## basic functionality\n",
    "import pandas as pd\n",
    "import numpy as np\n",
    "import re\n",
    "\n",
    "## can add others if you need them\n",
    "\n",
    "## repeated printouts\n",
    "from IPython.core.interactiveshell import InteractiveShell\n",
    "InteractiveShell.ast_node_interactivity = \"all\"\n"
   ]
  },
  {
   "cell_type": "markdown",
   "metadata": {},
   "source": [
    "## 0.1: Load the data (0 points)\n",
    "\n",
    "Load the `sentencing_asof0405.csv` data\n",
    "\n",
    "*Notes*: You may receive a warning about mixed data types upon import; feel free to ignore"
   ]
  },
  {
   "cell_type": "code",
   "execution_count": 10,
   "metadata": {},
   "outputs": [
    {
     "name": "stderr",
     "output_type": "stream",
     "text": [
      "/var/folders/9_/fcykl83s1dncqz69y6vx8b6w0000gn/T/ipykernel_30050/3780667190.py:1: DtypeWarning: Columns (10,11,14,25) have mixed types. Specify dtype option on import or set low_memory=False.\n",
      "  df = pd.read_csv('/Users/pwax/Desktop/QSS 20/pset1_inputdata/sentencing_asof0405.csv')\n"
     ]
    }
   ],
   "source": [
    "df = pd.read_csv('/Users/pwax/Desktop/QSS 20/pset1_inputdata/sentencing_asof0405.csv')"
   ]
  },
  {
   "cell_type": "markdown",
   "metadata": {},
   "source": [
    "## 0.2: Print head, dimensions, info (0 points)"
   ]
  },
  {
   "cell_type": "code",
   "execution_count": 12,
   "metadata": {},
   "outputs": [
    {
     "data": {
      "text/html": [
       "<div>\n",
       "<style scoped>\n",
       "    .dataframe tbody tr th:only-of-type {\n",
       "        vertical-align: middle;\n",
       "    }\n",
       "\n",
       "    .dataframe tbody tr th {\n",
       "        vertical-align: top;\n",
       "    }\n",
       "\n",
       "    .dataframe thead th {\n",
       "        text-align: right;\n",
       "    }\n",
       "</style>\n",
       "<table border=\"1\" class=\"dataframe\">\n",
       "  <thead>\n",
       "    <tr style=\"text-align: right;\">\n",
       "      <th></th>\n",
       "      <th>CASE_ID</th>\n",
       "      <th>CASE_PARTICIPANT_ID</th>\n",
       "      <th>RECEIVED_DATE</th>\n",
       "      <th>OFFENSE_CATEGORY</th>\n",
       "      <th>PRIMARY_CHARGE_FLAG</th>\n",
       "      <th>CHARGE_ID</th>\n",
       "      <th>CHARGE_VERSION_ID</th>\n",
       "      <th>DISPOSITION_CHARGED_OFFENSE_TITLE</th>\n",
       "      <th>CHARGE_COUNT</th>\n",
       "      <th>DISPOSITION_DATE</th>\n",
       "      <th>...</th>\n",
       "      <th>INCIDENT_CITY</th>\n",
       "      <th>INCIDENT_BEGIN_DATE</th>\n",
       "      <th>INCIDENT_END_DATE</th>\n",
       "      <th>LAW_ENFORCEMENT_AGENCY</th>\n",
       "      <th>LAW_ENFORCEMENT_UNIT</th>\n",
       "      <th>ARREST_DATE</th>\n",
       "      <th>FELONY_REVIEW_DATE</th>\n",
       "      <th>FELONY_REVIEW_RESULT</th>\n",
       "      <th>ARRAIGNMENT_DATE</th>\n",
       "      <th>UPDATED_OFFENSE_CATEGORY</th>\n",
       "    </tr>\n",
       "  </thead>\n",
       "  <tbody>\n",
       "    <tr>\n",
       "      <th>0</th>\n",
       "      <td>149765331439</td>\n",
       "      <td>175691153649</td>\n",
       "      <td>8/15/1984 12:00:00 AM</td>\n",
       "      <td>PROMIS Conversion</td>\n",
       "      <td>False</td>\n",
       "      <td>50510112469</td>\n",
       "      <td>116304211997</td>\n",
       "      <td>FIRST DEGREE MURDER</td>\n",
       "      <td>2</td>\n",
       "      <td>12/17/2014 12:00:00 AM</td>\n",
       "      <td>...</td>\n",
       "      <td>NaN</td>\n",
       "      <td>8/9/1984 12:00:00 AM</td>\n",
       "      <td>NaN</td>\n",
       "      <td>CHICAGO POLICE DEPT</td>\n",
       "      <td>NaN</td>\n",
       "      <td>8/15/1984 12:00:00 AM</td>\n",
       "      <td>08/15/1984 12:00:00 AM</td>\n",
       "      <td>Charge(S) Approved</td>\n",
       "      <td>9/21/1984 12:00:00 AM</td>\n",
       "      <td>Homicide</td>\n",
       "    </tr>\n",
       "    <tr>\n",
       "      <th>1</th>\n",
       "      <td>149765331439</td>\n",
       "      <td>175691153649</td>\n",
       "      <td>8/15/1984 12:00:00 AM</td>\n",
       "      <td>PROMIS Conversion</td>\n",
       "      <td>False</td>\n",
       "      <td>50510213021</td>\n",
       "      <td>98265074680</td>\n",
       "      <td>HOME INVASION</td>\n",
       "      <td>14</td>\n",
       "      <td>12/17/2014 12:00:00 AM</td>\n",
       "      <td>...</td>\n",
       "      <td>NaN</td>\n",
       "      <td>8/9/1984 12:00:00 AM</td>\n",
       "      <td>NaN</td>\n",
       "      <td>CHICAGO POLICE DEPT</td>\n",
       "      <td>NaN</td>\n",
       "      <td>8/15/1984 12:00:00 AM</td>\n",
       "      <td>08/15/1984 12:00:00 AM</td>\n",
       "      <td>Charge(S) Approved</td>\n",
       "      <td>9/21/1984 12:00:00 AM</td>\n",
       "      <td>Homicide</td>\n",
       "    </tr>\n",
       "    <tr>\n",
       "      <th>2</th>\n",
       "      <td>149765331439</td>\n",
       "      <td>175691153649</td>\n",
       "      <td>8/15/1984 12:00:00 AM</td>\n",
       "      <td>PROMIS Conversion</td>\n",
       "      <td>False</td>\n",
       "      <td>50516447217</td>\n",
       "      <td>131972895911</td>\n",
       "      <td>FIRST DEGREE MURDER</td>\n",
       "      <td>4</td>\n",
       "      <td>12/17/2014 12:00:00 AM</td>\n",
       "      <td>...</td>\n",
       "      <td>NaN</td>\n",
       "      <td>8/9/1984 12:00:00 AM</td>\n",
       "      <td>NaN</td>\n",
       "      <td>CHICAGO POLICE DEPT</td>\n",
       "      <td>NaN</td>\n",
       "      <td>8/15/1984 12:00:00 AM</td>\n",
       "      <td>08/15/1984 12:00:00 AM</td>\n",
       "      <td>Charge(S) Approved</td>\n",
       "      <td>9/21/1984 12:00:00 AM</td>\n",
       "      <td>Homicide</td>\n",
       "    </tr>\n",
       "    <tr>\n",
       "      <th>3</th>\n",
       "      <td>149765331439</td>\n",
       "      <td>175691153649</td>\n",
       "      <td>8/15/1984 12:00:00 AM</td>\n",
       "      <td>PROMIS Conversion</td>\n",
       "      <td>False</td>\n",
       "      <td>50516497493</td>\n",
       "      <td>131966356472</td>\n",
       "      <td>FIRST DEGREE MURDER</td>\n",
       "      <td>5</td>\n",
       "      <td>12/17/2014 12:00:00 AM</td>\n",
       "      <td>...</td>\n",
       "      <td>NaN</td>\n",
       "      <td>8/9/1984 12:00:00 AM</td>\n",
       "      <td>NaN</td>\n",
       "      <td>CHICAGO POLICE DEPT</td>\n",
       "      <td>NaN</td>\n",
       "      <td>8/15/1984 12:00:00 AM</td>\n",
       "      <td>08/15/1984 12:00:00 AM</td>\n",
       "      <td>Charge(S) Approved</td>\n",
       "      <td>9/21/1984 12:00:00 AM</td>\n",
       "      <td>Homicide</td>\n",
       "    </tr>\n",
       "    <tr>\n",
       "      <th>4</th>\n",
       "      <td>149765331439</td>\n",
       "      <td>175691153649</td>\n",
       "      <td>8/15/1984 12:00:00 AM</td>\n",
       "      <td>PROMIS Conversion</td>\n",
       "      <td>False</td>\n",
       "      <td>50516648320</td>\n",
       "      <td>98059642859</td>\n",
       "      <td>HOME INVASION</td>\n",
       "      <td>13</td>\n",
       "      <td>12/17/2014 12:00:00 AM</td>\n",
       "      <td>...</td>\n",
       "      <td>NaN</td>\n",
       "      <td>8/9/1984 12:00:00 AM</td>\n",
       "      <td>NaN</td>\n",
       "      <td>CHICAGO POLICE DEPT</td>\n",
       "      <td>NaN</td>\n",
       "      <td>8/15/1984 12:00:00 AM</td>\n",
       "      <td>08/15/1984 12:00:00 AM</td>\n",
       "      <td>Charge(S) Approved</td>\n",
       "      <td>9/21/1984 12:00:00 AM</td>\n",
       "      <td>Homicide</td>\n",
       "    </tr>\n",
       "  </tbody>\n",
       "</table>\n",
       "<p>5 rows × 41 columns</p>\n",
       "</div>"
      ],
      "text/plain": [
       "        CASE_ID  CASE_PARTICIPANT_ID          RECEIVED_DATE  \\\n",
       "0  149765331439         175691153649  8/15/1984 12:00:00 AM   \n",
       "1  149765331439         175691153649  8/15/1984 12:00:00 AM   \n",
       "2  149765331439         175691153649  8/15/1984 12:00:00 AM   \n",
       "3  149765331439         175691153649  8/15/1984 12:00:00 AM   \n",
       "4  149765331439         175691153649  8/15/1984 12:00:00 AM   \n",
       "\n",
       "    OFFENSE_CATEGORY  PRIMARY_CHARGE_FLAG    CHARGE_ID  CHARGE_VERSION_ID  \\\n",
       "0  PROMIS Conversion                False  50510112469       116304211997   \n",
       "1  PROMIS Conversion                False  50510213021        98265074680   \n",
       "2  PROMIS Conversion                False  50516447217       131972895911   \n",
       "3  PROMIS Conversion                False  50516497493       131966356472   \n",
       "4  PROMIS Conversion                False  50516648320        98059642859   \n",
       "\n",
       "  DISPOSITION_CHARGED_OFFENSE_TITLE  CHARGE_COUNT        DISPOSITION_DATE  \\\n",
       "0               FIRST DEGREE MURDER             2  12/17/2014 12:00:00 AM   \n",
       "1                     HOME INVASION            14  12/17/2014 12:00:00 AM   \n",
       "2               FIRST DEGREE MURDER             4  12/17/2014 12:00:00 AM   \n",
       "3               FIRST DEGREE MURDER             5  12/17/2014 12:00:00 AM   \n",
       "4                     HOME INVASION            13  12/17/2014 12:00:00 AM   \n",
       "\n",
       "   ... INCIDENT_CITY   INCIDENT_BEGIN_DATE INCIDENT_END_DATE  \\\n",
       "0  ...           NaN  8/9/1984 12:00:00 AM               NaN   \n",
       "1  ...           NaN  8/9/1984 12:00:00 AM               NaN   \n",
       "2  ...           NaN  8/9/1984 12:00:00 AM               NaN   \n",
       "3  ...           NaN  8/9/1984 12:00:00 AM               NaN   \n",
       "4  ...           NaN  8/9/1984 12:00:00 AM               NaN   \n",
       "\n",
       "  LAW_ENFORCEMENT_AGENCY LAW_ENFORCEMENT_UNIT            ARREST_DATE  \\\n",
       "0    CHICAGO POLICE DEPT                  NaN  8/15/1984 12:00:00 AM   \n",
       "1    CHICAGO POLICE DEPT                  NaN  8/15/1984 12:00:00 AM   \n",
       "2    CHICAGO POLICE DEPT                  NaN  8/15/1984 12:00:00 AM   \n",
       "3    CHICAGO POLICE DEPT                  NaN  8/15/1984 12:00:00 AM   \n",
       "4    CHICAGO POLICE DEPT                  NaN  8/15/1984 12:00:00 AM   \n",
       "\n",
       "       FELONY_REVIEW_DATE FELONY_REVIEW_RESULT       ARRAIGNMENT_DATE  \\\n",
       "0  08/15/1984 12:00:00 AM   Charge(S) Approved  9/21/1984 12:00:00 AM   \n",
       "1  08/15/1984 12:00:00 AM   Charge(S) Approved  9/21/1984 12:00:00 AM   \n",
       "2  08/15/1984 12:00:00 AM   Charge(S) Approved  9/21/1984 12:00:00 AM   \n",
       "3  08/15/1984 12:00:00 AM   Charge(S) Approved  9/21/1984 12:00:00 AM   \n",
       "4  08/15/1984 12:00:00 AM   Charge(S) Approved  9/21/1984 12:00:00 AM   \n",
       "\n",
       "  UPDATED_OFFENSE_CATEGORY  \n",
       "0                 Homicide  \n",
       "1                 Homicide  \n",
       "2                 Homicide  \n",
       "3                 Homicide  \n",
       "4                 Homicide  \n",
       "\n",
       "[5 rows x 41 columns]"
      ]
     },
     "execution_count": 12,
     "metadata": {},
     "output_type": "execute_result"
    },
    {
     "name": "stdout",
     "output_type": "stream",
     "text": [
      "(248146, 41)\n",
      "<class 'pandas.core.frame.DataFrame'>\n",
      "RangeIndex: 248146 entries, 0 to 248145\n",
      "Data columns (total 41 columns):\n",
      " #   Column                             Non-Null Count   Dtype  \n",
      "---  ------                             --------------   -----  \n",
      " 0   CASE_ID                            248146 non-null  int64  \n",
      " 1   CASE_PARTICIPANT_ID                248146 non-null  int64  \n",
      " 2   RECEIVED_DATE                      248146 non-null  object \n",
      " 3   OFFENSE_CATEGORY                   248146 non-null  object \n",
      " 4   PRIMARY_CHARGE_FLAG                248146 non-null  bool   \n",
      " 5   CHARGE_ID                          248146 non-null  int64  \n",
      " 6   CHARGE_VERSION_ID                  248146 non-null  int64  \n",
      " 7   DISPOSITION_CHARGED_OFFENSE_TITLE  248146 non-null  object \n",
      " 8   CHARGE_COUNT                       248146 non-null  int64  \n",
      " 9   DISPOSITION_DATE                   248146 non-null  object \n",
      " 10  DISPOSITION_CHARGED_CHAPTER        248146 non-null  object \n",
      " 11  DISPOSITION_CHARGED_ACT            242771 non-null  object \n",
      " 12  DISPOSITION_CHARGED_SECTION        242771 non-null  object \n",
      " 13  DISPOSITION_CHARGED_CLASS          248127 non-null  object \n",
      " 14  DISPOSITION_CHARGED_AOIC           248122 non-null  object \n",
      " 15  CHARGE_DISPOSITION                 248146 non-null  object \n",
      " 16  CHARGE_DISPOSITION_REASON          904 non-null     object \n",
      " 17  SENTENCE_JUDGE                     247404 non-null  object \n",
      " 18  SENTENCE_COURT_NAME                246761 non-null  object \n",
      " 19  SENTENCE_COURT_FACILITY            246216 non-null  object \n",
      " 20  SENTENCE_PHASE                     248146 non-null  object \n",
      " 21  SENTENCE_DATE                      248146 non-null  object \n",
      " 22  SENTENCE_TYPE                      248146 non-null  object \n",
      " 23  CURRENT_SENTENCE_FLAG              248146 non-null  bool   \n",
      " 24  COMMITMENT_TYPE                    246464 non-null  object \n",
      " 25  COMMITMENT_TERM                    246434 non-null  object \n",
      " 26  COMMITMENT_UNIT                    246434 non-null  object \n",
      " 27  LENGTH_OF_CASE_in_Days             229126 non-null  float64\n",
      " 28  AGE_AT_INCIDENT                    238359 non-null  float64\n",
      " 29  RACE                               246879 non-null  object \n",
      " 30  GENDER                             247337 non-null  object \n",
      " 31  INCIDENT_CITY                      228745 non-null  object \n",
      " 32  INCIDENT_BEGIN_DATE                239122 non-null  object \n",
      " 33  INCIDENT_END_DATE                  22008 non-null   object \n",
      " 34  LAW_ENFORCEMENT_AGENCY             239405 non-null  object \n",
      " 35  LAW_ENFORCEMENT_UNIT               76408 non-null   object \n",
      " 36  ARREST_DATE                        242981 non-null  object \n",
      " 37  FELONY_REVIEW_DATE                 171907 non-null  object \n",
      " 38  FELONY_REVIEW_RESULT               171907 non-null  object \n",
      " 39  ARRAIGNMENT_DATE                   229126 non-null  object \n",
      " 40  UPDATED_OFFENSE_CATEGORY           248146 non-null  object \n",
      "dtypes: bool(2), float64(2), int64(5), object(32)\n",
      "memory usage: 74.3+ MB\n"
     ]
    }
   ],
   "source": [
    "df.head() \n",
    "print(df.shape)\n",
    "df.info()"
   ]
  },
  {
   "cell_type": "markdown",
   "metadata": {},
   "source": [
    "# Part one: data cleaning/interpretation"
   ]
  },
  {
   "cell_type": "markdown",
   "metadata": {},
   "source": [
    "## 1.1: Understanding the unit of analysis (5 points)\n",
    "\n",
    "- Print the number of unique values for the following columns. Do so in a way that avoids copying/pasting code for \n",
    "the three:\n",
    "\n",
    "    - Cases (`CASE_ID`)\n",
    "    - People in that case (`CASE_PARTICIPANT_ID`)\n",
    "    - Charges (`CHARGE_ID`)\n",
    "\n",
    "- Write a couple sentences on the following and show an example of each (e.g., a case involving multiple people):\n",
    "    \n",
    "    - Why there are more unique people than unique cases?\n",
    "    - Why there are more unique charges than unique people?\n",
    "\n",
    "- Print the mean and median number of charges per case/participant \n",
    "\n",
    "- Print the mean and median number of participants per case\n",
    "\n",
    "- Does the data seem to enable us to follow the same defendant across different cases they're charged in? Write 1 sentence in support of your conclusion.\n"
   ]
  },
  {
   "cell_type": "code",
   "execution_count": 15,
   "metadata": {},
   "outputs": [
    {
     "data": {
      "text/plain": [
       "CASE_ID                197519\n",
       "CASE_PARTICIPANT_ID    211977\n",
       "CHARGE_ID              229015\n",
       "dtype: int64"
      ]
     },
     "execution_count": 15,
     "metadata": {},
     "output_type": "execute_result"
    }
   ],
   "source": [
    "df[[\"CASE_ID\",\"CASE_PARTICIPANT_ID\",\"CHARGE_ID\"]].nunique()"
   ]
  },
  {
   "cell_type": "markdown",
   "metadata": {},
   "source": [
    "There are more unique people than cases because some cases can involve multiple people, for example a robbery from a gang of 4 people would only be one case but would have 4 case participants"
   ]
  },
  {
   "cell_type": "markdown",
   "metadata": {},
   "source": [
    "There are more charges than unique people as some of the people will have comitted multiple charges. For example a certain person can be involved in 2 different cases which means for an addition of 2 cases there will be only one unique person."
   ]
  },
  {
   "cell_type": "code",
   "execution_count": 18,
   "metadata": {},
   "outputs": [
    {
     "data": {
      "text/plain": [
       "(1.1261457610967227, 1.0)"
      ]
     },
     "execution_count": 18,
     "metadata": {},
     "output_type": "execute_result"
    }
   ],
   "source": [
    "charges_per_person = df.groupby(\"CASE_PARTICIPANT_ID\")[\"CHARGE_ID\"].nunique()\n",
    "charges_per_person.mean(), charges_per_person.median()"
   ]
  },
  {
   "cell_type": "code",
   "execution_count": 19,
   "metadata": {},
   "outputs": [
    {
     "data": {
      "text/plain": [
       "(1.0731980214561636, 1.0)"
      ]
     },
     "execution_count": 19,
     "metadata": {},
     "output_type": "execute_result"
    }
   ],
   "source": [
    "participants_per_case= df.groupby(\"CASE_ID\")[\"CASE_PARTICIPANT_ID\"].nunique()\n",
    "participants_per_case.mean(), participants_per_case.median()"
   ]
  },
  {
   "cell_type": "markdown",
   "metadata": {},
   "source": [
    "Yes it does, since the number of cases is more than the number of case_participants it shows that the case participant ID is not unique to the case; this means we can track defendants across cases through their CASE_PARTICIPANT_ID number."
   ]
  },
  {
   "cell_type": "markdown",
   "metadata": {},
   "source": [
    "## 1.2.1: Which offense is final? (3 points)\n",
    "\n",
    "- First, read the data documentation [link](https://datacatalog.cookcountyil.gov/api/views/tg8v-tm6u/files/8597cdda-f7e1-44d1-b0ce-0a4e43f8c980?download=true&filename=CCSAO%20Data%20Glossary.pdf) and summarize in your own words the differences between `OFFENSE_CATEGORY` and `UPDATED_OFFENSE_CATEGORY` \n",
    "\n",
    "- Construct an indicator `is_changed_offense` that's True for case-participant-charge observations (rows) where there's a difference between the original charge (offense category) and the most current charge (updated offense category). What are some of the more common changed offenses? (can just print result of sort_values based on original offense category)\n",
    "\n",
    "- Print one example of a changed offense from one of these categories and comment on what the reason may be\n"
   ]
  },
  {
   "cell_type": "markdown",
   "metadata": {},
   "source": [
    "The OFFENSE_CATEGORY is the offense that the defendant is originally charged with, the UPDATED_OFFENSE_CATEGORY is the updated offense that they are charged with which can change as a case evolves."
   ]
  },
  {
   "cell_type": "code",
   "execution_count": 23,
   "metadata": {},
   "outputs": [],
   "source": [
    "df[\"is_changed_offense\"] = df[\"OFFENSE_CATEGORY\"] != df[\"UPDATED_OFFENSE_CATEGORY\"]"
   ]
  },
  {
   "cell_type": "code",
   "execution_count": 24,
   "metadata": {},
   "outputs": [
    {
     "data": {
      "text/html": [
       "<div>\n",
       "<style scoped>\n",
       "    .dataframe tbody tr th:only-of-type {\n",
       "        vertical-align: middle;\n",
       "    }\n",
       "\n",
       "    .dataframe tbody tr th {\n",
       "        vertical-align: top;\n",
       "    }\n",
       "\n",
       "    .dataframe thead th {\n",
       "        text-align: right;\n",
       "    }\n",
       "</style>\n",
       "<table border=\"1\" class=\"dataframe\">\n",
       "  <thead>\n",
       "    <tr style=\"text-align: right;\">\n",
       "      <th></th>\n",
       "      <th>OFFENSE_CATEGORY</th>\n",
       "      <th>count</th>\n",
       "    </tr>\n",
       "  </thead>\n",
       "  <tbody>\n",
       "    <tr>\n",
       "      <th>0</th>\n",
       "      <td>PROMIS Conversion</td>\n",
       "      <td>6394</td>\n",
       "    </tr>\n",
       "    <tr>\n",
       "      <th>1</th>\n",
       "      <td>DUI</td>\n",
       "      <td>3896</td>\n",
       "    </tr>\n",
       "    <tr>\n",
       "      <th>2</th>\n",
       "      <td>UUW - Unlawful Use of Weapon</td>\n",
       "      <td>2155</td>\n",
       "    </tr>\n",
       "    <tr>\n",
       "      <th>3</th>\n",
       "      <td>Other Offense</td>\n",
       "      <td>2125</td>\n",
       "    </tr>\n",
       "    <tr>\n",
       "      <th>4</th>\n",
       "      <td>Aggravated Battery</td>\n",
       "      <td>1927</td>\n",
       "    </tr>\n",
       "    <tr>\n",
       "      <th>...</th>\n",
       "      <td>...</td>\n",
       "      <td>...</td>\n",
       "    </tr>\n",
       "    <tr>\n",
       "      <th>83</th>\n",
       "      <td>Perjury</td>\n",
       "      <td>4</td>\n",
       "    </tr>\n",
       "    <tr>\n",
       "      <th>84</th>\n",
       "      <td>Prostitution</td>\n",
       "      <td>3</td>\n",
       "    </tr>\n",
       "    <tr>\n",
       "      <th>85</th>\n",
       "      <td>Compelling Gang Membership</td>\n",
       "      <td>2</td>\n",
       "    </tr>\n",
       "    <tr>\n",
       "      <th>86</th>\n",
       "      <td>Benefit Recipient Fraud</td>\n",
       "      <td>2</td>\n",
       "    </tr>\n",
       "    <tr>\n",
       "      <th>87</th>\n",
       "      <td>Violate Bail Bond</td>\n",
       "      <td>2</td>\n",
       "    </tr>\n",
       "  </tbody>\n",
       "</table>\n",
       "<p>88 rows × 2 columns</p>\n",
       "</div>"
      ],
      "text/plain": [
       "                OFFENSE_CATEGORY  count\n",
       "0              PROMIS Conversion   6394\n",
       "1                            DUI   3896\n",
       "2   UUW - Unlawful Use of Weapon   2155\n",
       "3                  Other Offense   2125\n",
       "4             Aggravated Battery   1927\n",
       "..                           ...    ...\n",
       "83                       Perjury      4\n",
       "84                  Prostitution      3\n",
       "85    Compelling Gang Membership      2\n",
       "86       Benefit Recipient Fraud      2\n",
       "87             Violate Bail Bond      2\n",
       "\n",
       "[88 rows x 2 columns]"
      ]
     },
     "execution_count": 24,
     "metadata": {},
     "output_type": "execute_result"
    }
   ],
   "source": [
    "common_changes = df[df[\"is_changed_offense\"]==True][\"OFFENSE_CATEGORY\"].value_counts().reset_index()\n",
    "common_changes"
   ]
  },
  {
   "cell_type": "code",
   "execution_count": 25,
   "metadata": {},
   "outputs": [
    {
     "name": "stdout",
     "output_type": "stream",
     "text": [
      "            CASE_ID  CASE_PARTICIPANT_ID     CHARGE_ID OFFENSE_CATEGORY  \\\n",
      "11021  377427814448         695176993911  335034309383              DUI   \n",
      "\n",
      "      UPDATED_OFFENSE_CATEGORY  \n",
      "11021           Aggravated DUI  \n"
     ]
    }
   ],
   "source": [
    "example = df[(df[\"is_changed_offense\"]) & (df[\"OFFENSE_CATEGORY\"] == \"DUI\")].head(1)\n",
    "\n",
    "print(example[[\"CASE_ID\", \"CASE_PARTICIPANT_ID\", \"CHARGE_ID\", \n",
    "               \"OFFENSE_CATEGORY\", \"UPDATED_OFFENSE_CATEGORY\"]])\n"
   ]
  },
  {
   "cell_type": "markdown",
   "metadata": {},
   "source": [
    "The charge was upgraded from DUI to aggravated DUI, it could have happened for a number of reasons including extremely high blood alcohol level or driving without a liscence."
   ]
  },
  {
   "cell_type": "markdown",
   "metadata": {},
   "source": [
    "## 1.2.2: Simplifying the charges (5 points)\n",
    "\n",
    "Using the field (`UPDATED_OFFENSE_CATEGORY`), create a new field, `simplified_offense_derived`, that simplifies the many offense categories into broader buckets using the following process:\n",
    "\n",
    "First, combine all offenses beginning with \"Aggravated\" into a single category without that prefix (e.g., Aggravated Battery and Battery just becomes Battery)\n",
    "\n",
    "Then:\n",
    "- Combine all offenses with arson into a single arson category (`Arson`)\n",
    "- Combine all offenses with homicide into a single homicide category (`Homicide`)\n",
    "- Combine all offenses with vehicle/vehicular in the name into a single vehicle category (`Vehicle-related`)\n",
    "- Combine all offenses with battery in the name into a single battery category (`Battery`)\n",
    "\n",
    "Try to do so efficiently (e.g., using map and a dictionary or np.select rather than separate line for each recoded offense)\n",
    "\n",
    "Print the difference between the # of unique offenses in the original `UPDATED_OFFENSE_CATEGORY` field and the # of unique offenses in your new `simplified_offense_derived` field\n"
   ]
  },
  {
   "cell_type": "code",
   "execution_count": 28,
   "metadata": {},
   "outputs": [
    {
     "name": "stdout",
     "output_type": "stream",
     "text": [
      "79 75 4\n"
     ]
    }
   ],
   "source": [
    "offense_clean = df[\"UPDATED_OFFENSE_CATEGORY\"].str.replace(\"Aggravated \", \"\")\n",
    "\n",
    "conditions = [\n",
    "    offense_clean.str.contains(\"arson\"),\n",
    "    offense_clean.str.contains(\"homicide\"),\n",
    "    offense_clean.str.contains(\"vehicle|vehicular\"),\n",
    "    offense_clean.str.contains(\"battery\")\n",
    "]\n",
    "\n",
    "choices = [\"Arson\", \"Homicide\", \"Vehicle-related\", \"Battery\"]\n",
    "\n",
    "df[\"simplified_offense_derived\"] = np.select(\n",
    "    conditions,\n",
    "    choices,\n",
    "    default=offense_clean\n",
    ")\n",
    "original_unique = df[\"UPDATED_OFFENSE_CATEGORY\"].nunique()\n",
    "simplified_unique = df[\"simplified_offense_derived\"].nunique()\n",
    "print(original_unique, simplified_unique, original_unique - simplified_unique)\n"
   ]
  },
  {
   "cell_type": "markdown",
   "metadata": {},
   "source": [
    "## 1.3: Cleaning additional variables (10 points)\n",
    "\n",
    "Clean the following variables; make sure to retain the original variable in data and use the derived suffix so it's easier to pull these cleaned out variables later (e.g., `age_derived`) to indicate this was a transformation\n",
    "\n",
    "- Race: create True/false indicators for `is_black_derived` (Black only or mixed race with hispanic), Non-Black Hispanic, so either hispanic alone or white hispanic (`is_hisp_derived`), White non-hispanic (`is_white_derived`), or none of the above (`is_othereth_derived`)\n",
    "\n",
    "- Gender: create a boolean true/false indicator for `is_male_derived` (false is female, unknown, or other)\n",
    "\n",
    "- Age at incident: you notice outliers like 130-year olds. Winsorsize the top 0.01% of values to be equal to the 99.99th percentile value pre-winsorization. Call this `age_derived`\n",
    "\n",
    "- Create `sentenceymd_derived` that's a version of `SENTENCING_DATE` converted to datetime format. Also create a rounded version, `sentenceym_derived`, that's rounded down to the first of the month and the year (e.g., 01-05-2016 and 01-27-2016 each become 01-01-2016)\n",
    "    - Hint: all timestamps are midnight so u can strip in conversion. For full credit, before converting, you notice that some of the years have been mistranscribed (e.g., 291X or 221X instead of 201X). Programatically fix those (eg 2914 -> 2014). Even after cleaning, there will still be some that are after the year 2021 that we'll filter out later. For partial credit, you can ignore the timestamps that cause errors and set errors = \"coerce\" within `pd.to_datetime()` to allow the conversion to proceed. \n",
    "\n",
    "- Sentencing judge: create an identifier (`judgeid_derived`) for each unique judge (`SENTENCE_JUDGE`) structured as judge_1, judge_2...., with the order determined by sorting the judges (will sort on fname then last). When finding unique judges, there are various duplicates we could weed out --- for now, just focus on (1) the different iterations of Doug/Douglas Simpson, (2) the different iterations of Shelley Sutker (who appears both with her maiden name and her hyphenated married name). \n",
    "     - Hint: due to mixed types, you may need to cast the `SENTENCE_JUDGE` var to a diff type to sort\n",
    "\n",
    "After finishing, print a random sample of 10 rows (data.sample(n = 10)) with the original and cleaned columns for the relevant variables to validate your work"
   ]
  },
  {
   "cell_type": "code",
   "execution_count": 30,
   "metadata": {},
   "outputs": [],
   "source": [
    "df[\"is_black_derived\"] = df[\"RACE\"].str.contains(\"Black\", na=False)\n",
    "df[\"is_hisp_derived\"]  = df[\"RACE\"].str.contains(\"Hispanic\", na=False) & ~df[\"is_black_derived\"]\n",
    "df[\"is_white_derived\"] = df[\"RACE\"].str.contains(\"White\", na=False) & ~df[\"is_hisp_derived\"] & ~df[\"is_black_derived\"]\n",
    "df[\"is_othereth_derived\"] = ~(df[\"is_black_derived\"] | df[\"is_hisp_derived\"] | df[\"is_white_derived\"])"
   ]
  },
  {
   "cell_type": "code",
   "execution_count": 31,
   "metadata": {},
   "outputs": [],
   "source": [
    "df[\"is_male_derived\"] = df[\"GENDER\"].str == \"MALE\""
   ]
  },
  {
   "cell_type": "code",
   "execution_count": 32,
   "metadata": {},
   "outputs": [],
   "source": [
    "age_cap = df[\"AGE_AT_INCIDENT\"].quantile(0.9999)\n",
    "df[\"age_derived\"] = df[\"AGE_AT_INCIDENT\"].clip(upper=age_cap)"
   ]
  },
  {
   "cell_type": "code",
   "execution_count": 33,
   "metadata": {},
   "outputs": [],
   "source": [
    "df[\"SENTENCING_DATE_CLEAN\"] = df[\"SENTENCE_DATE\"].astype(str).str.split().str[0]\n",
    "df[\"sentenceymd_derived\"] = pd.to_datetime(df[\"SENTENCING_DATE_CLEAN\"], errors=\"coerce\")\n",
    "df.loc[df[\"sentenceymd_derived\"] > pd.Timestamp(\"2021-12-31\"), \"sentenceymd_derived\"] = pd.NaT\n",
    "df[\"sentenceym_derived\"] = df[\"sentenceymd_derived\"].dt.to_period(\"M\").dt.to_timestamp()"
   ]
  },
  {
   "cell_type": "code",
   "execution_count": 34,
   "metadata": {},
   "outputs": [],
   "source": [
    "df[\"SENTENCE_JUDGE_CLEAN\"] = df[\"SENTENCE_JUDGE\"].astype(str)\n",
    "df[\"SENTENCE_JUDGE_CLEAN\"] = df[\"SENTENCE_JUDGE_CLEAN\"].str.replace(r\"Doug(las)? Simpson\", \"Doug Simpson\", case=False, regex=True)\n",
    "df[\"SENTENCE_JUDGE_CLEAN\"] = df[\"SENTENCE_JUDGE_CLEAN\"].str.replace(r\"Shelley Sutker(-Dermer)?\", \"Shelley Sutker\", case=False, regex=True)\n",
    "unique_judges = sorted(df[\"SENTENCE_JUDGE_CLEAN\"].unique())\n",
    "judge_map = {name: f\"judge_{i+1}\" for i, name in enumerate(unique_judges)}\n",
    "df[\"judgeid_derived\"] = df[\"SENTENCE_JUDGE_CLEAN\"].map(judge_map)"
   ]
  },
  {
   "cell_type": "code",
   "execution_count": 35,
   "metadata": {},
   "outputs": [
    {
     "name": "stdout",
     "output_type": "stream",
     "text": [
      "                SENTENCE_JUDGE    SENTENCE_JUDGE_CLEAN judgeid_derived  \\\n",
      "36101             John T Doody            John T Doody       judge_151   \n",
      "123035          Carol M Howard          Carol M Howard        judge_32   \n",
      "128323          Stanley  Sacks          Stanley  Sacks       judge_286   \n",
      "46410   Rosemary Grant Higgins  Rosemary Grant Higgins       judge_273   \n",
      "143189         Kevin M Sheehan         Kevin M Sheehan       judge_170   \n",
      "234788         Michael  Clancy         Michael  Clancy       judge_219   \n",
      "199393      Alfredo  Maldonado      Alfredo  Maldonado         judge_5   \n",
      "132023                     NaN                     nan       judge_339   \n",
      "123649          Neil J Linehan          Neil J Linehan       judge_236   \n",
      "83655           William G Lacy          William G Lacy       judge_330   \n",
      "\n",
      "       sentenceym_derived  age_derived  is_male_derived  is_black_derived  \\\n",
      "36101          2011-12-01         49.0            False              True   \n",
      "123035         2014-04-01         40.0            False              True   \n",
      "128323         2015-01-01         35.0            False              True   \n",
      "46410          2015-02-01         18.0            False              True   \n",
      "143189         2014-11-01         24.0            False              True   \n",
      "234788         2019-08-01         53.0            False              True   \n",
      "199393         2017-11-01         31.0            False              True   \n",
      "132023         2014-10-01         28.0            False             False   \n",
      "123649         2014-10-01         22.0            False              True   \n",
      "83655          2014-03-01          NaN            False              True   \n",
      "\n",
      "        is_hisp_derived  is_white_derived  is_othereth_derived  \n",
      "36101             False             False                False  \n",
      "123035            False             False                False  \n",
      "128323            False             False                False  \n",
      "46410             False             False                False  \n",
      "143189            False             False                False  \n",
      "234788            False             False                False  \n",
      "199393            False             False                False  \n",
      "132023            False              True                False  \n",
      "123649            False             False                False  \n",
      "83655             False             False                False  \n"
     ]
    }
   ],
   "source": [
    "print(df[[\"SENTENCE_JUDGE\", \"SENTENCE_JUDGE_CLEAN\", \"judgeid_derived\", \"sentenceym_derived\", \"age_derived\", \"is_male_derived\", \"is_black_derived\", \"is_hisp_derived\", \"is_white_derived\", \"is_othereth_derived\"]].sample(10))"
   ]
  },
  {
   "cell_type": "markdown",
   "metadata": {},
   "source": [
    "## 1.4: Subsetting rows to analytic dataset (5 points)\n",
    "\n",
    "You decide based on the above to simplify things in the following ways:\n",
    "    \n",
    "- Subset to cases where only one participant is charged, since cases with >1 participant might have complications like \n",
    "plea bargains/informing from other participants affecting the sentencing of the focal participant\n",
    "\n",
    "- To go from a participant-case level dataset, where each participant is repeated across charges tied to the case, to a participant-level dataset, where each participant has one charge, subset to a participant's primary charge and their current sentence (`PRIMARY_CHARGE_FLAG` is True and `CURRENT_SENTENCE_FLAG` is True). Double check that this worked by confirming there are no longer multiple charges for the same case-participant\n",
    "\n",
    "- Filter out observations where judge is nan or nonsensical (indicated by is.null or equal to FLOOD)\n",
    "\n",
    "- Subset to sentencing date between 01-01-2012 and 04-05-2021 (inclusive)\n",
    "\n",
    "After completing these steps, print the number of rows in the data"
   ]
  },
  {
   "cell_type": "code",
   "execution_count": 37,
   "metadata": {},
   "outputs": [
    {
     "data": {
      "text/plain": [
       "1.0"
      ]
     },
     "execution_count": 37,
     "metadata": {},
     "output_type": "execute_result"
    },
    {
     "name": "stdout",
     "output_type": "stream",
     "text": [
      "121342\n"
     ]
    }
   ],
   "source": [
    "one_participant = df[df[\"CASE_ID\"].map(df[\"CASE_ID\"].value_counts()) == 1]\n",
    "participant_level=one_participant[(one_participant[\"PRIMARY_CHARGE_FLAG\"]==True) & (one_participant[\"CURRENT_SENTENCE_FLAG\"]==True)]\n",
    "participant_level_check = participant_level.groupby(\"CASE_PARTICIPANT_ID\")[\"CHARGE_ID\"].nunique()\n",
    "participant_level_check.mean()\n",
    "participant_level = participant_level[~(participant_level[\"SENTENCE_JUDGE\"].isnull() | (participant_level[\"SENTENCE_JUDGE\"] == \"FLOOD\"))]\n",
    "participant_level= participant_level[(participant_level[\"sentenceymd_derived\"]>=pd.to_datetime(\"2012-01-01\"))&(participant_level[\"sentenceymd_derived\"]<=pd.to_datetime(\"2021-05-04\"))]\n",
    "print(participant_level.shape[0])"
   ]
  },
  {
   "cell_type": "markdown",
   "metadata": {},
   "source": [
    "# Part two: investigating Black vs. White sentencing disparities\n",
    "\n",
    "Now that the data are cleaned, we're going to investigate different types of disparities in sentencing between Black defendants and White defendants. We're focusing on these groups for the purpose of the problem set, but the analysis could be extended to study Hispanic defendants or, in a different jurisdiction, Asian and other minoritized groups.\n",
    "\n",
    "**Details if interested in digging deeper**: If interested (optional), you can read more technical coverage of how we might (1) measure disparities, and (2) what factors you want to adjust for when deciding whether two defendants are 'similarly situated' but for their race in the following sources:\n",
    "\n",
    "- [Review of sentencing disparities research](https://www.journals.uchicago.edu/doi/full/10.1086/701505)\n",
    "- [Discussion of causal model/blinding race at charging stage of the prosecutorial process](https://5harad.com/papers/blind-charging.pdf)\n",
    "- [Discussion of measuring discrimination in policing that can generalize to the sentencing case](https://www.annualreviews.org/doi/abs/10.1146/annurev-criminol-011518-024731)\n",
    "- [General discussion of causal challenges in measuring between-group disparities](https://osf.io/preprints/socarxiv/gx4y3/)\n",
    "\n",
    "**One major caveat**: when investigating whether two similar defendants received different sentences, we're missing one important attribute that influences sentencing: the defendant's criminal history. This influences sentencing both through sentencing guidelines, which can prescribe longer sentences for those who have certain types of prior convictions, and through judicial discretion if judges are more lenient with first-time defendants. The above sources discuss how much we want to \"control away\" for this prior history, since if we think there are racial biases in which defendants, conditional on *committing* a crime, are arrested and charged, we may not want to adjust for that factor. More discussion [in this article](https://www.themarshallproject.org/2019/12/03/the-growing-racial-disparity-in-prison-time)\n"
   ]
  },
  {
   "cell_type": "markdown",
   "metadata": {},
   "source": [
    "## 2.0: (0 points)"
   ]
  },
  {
   "cell_type": "markdown",
   "metadata": {},
   "source": [
    "First, read in the following dataset (regardless of progress on part one): `sentencing_cleaned.pkl` (if you can't read in the pkl you can read in the .csv format but may need to recast some of the datetime columns)\n",
    "\n",
    "*Note*: don't worry if there are slight differences in your output from Part One and this dataset/it's not a good use of time to try to reverse engineer Part One answers from this cleaned data."
   ]
  },
  {
   "cell_type": "code",
   "execution_count": 41,
   "metadata": {},
   "outputs": [],
   "source": [
    "d2 = pd.read_pickle('/Users/pwax/Desktop/QSS 20/pset1_inputdata/sentencing_cleaned.pkl')"
   ]
  },
  {
   "cell_type": "markdown",
   "metadata": {},
   "source": [
    "## 2.1: Investigating one type of between-group difference: who reaches the sentencing stage? (5 points)\n",
    "\n",
    "Tabulate and visualize the proportion of defendants, out of all defendants sentenced in a given month/year, who are Black and who are White (separate proportions)\n",
    "\n",
    "- Denominator is number of unique cases that month\n",
    "- Numerator for black defendants is count of is_black_derived\n",
    "- Numerator for white defendants is count of is_white_derived\n",
    "- Fraction of each is numerator/denominator\n",
    "\n",
    "- Print the table\n",
    "- Create a graph with two lines--- one for Black defendants as fraction of total; another for White defendants. Make sure it includes a legend summarizing which color is for which group, and clean the legend so that it has informative names (e.g., Black or White rather than prop_black or prop_white)\n",
    "- Use mathematical notation to write out each of the proportions using summation notation in a 1-2 sentence writeup describing trends. What seems to be going on in April and May 2020? \n",
    "\n",
    "**Optional challenge**: improve the viz by shading the background of the visualization for months with fewer than 100 cases \n",
    "\n",
    "**Optional challenge**: improve the viz by adding a vertical line for 12-01-2016, the month that new State's Attorney Foxx took office "
   ]
  },
  {
   "cell_type": "code",
   "execution_count": 43,
   "metadata": {},
   "outputs": [],
   "source": [
    "import matplotlib as plt\n",
    "d2['RECEIVED_DATE'] = pd.to_datetime(d2['RECEIVED_DATE'], format=\"%m/%d/%Y %I:%M:%S %p\")\n",
    "d2['RECEIVED_DATE'] = d2['RECEIVED_DATE'].dt.to_period('M')\n",
    "monthly_counts = pd.DataFrame({\n",
    "    'total': d2.groupby('RECEIVED_DATE').size(),\n",
    "    'black': d2[d2['is_black_derived'] == True].groupby('RECEIVED_DATE').size(),\n",
    "    'white': d2[d2['is_white_derived'] == True].groupby('RECEIVED_DATE').size(),\n",
    "})\n",
    "proportion= pd.DataFrame({\n",
    "    'black': monthly_counts.black / monthly_counts.total,\n",
    "    'white': monthly_counts.white / monthly_counts.total,\n",
    "})\n"
   ]
  },
  {
   "cell_type": "code",
   "execution_count": 44,
   "metadata": {},
   "outputs": [
    {
     "data": {
      "text/html": [
       "<div>\n",
       "<style scoped>\n",
       "    .dataframe tbody tr th:only-of-type {\n",
       "        vertical-align: middle;\n",
       "    }\n",
       "\n",
       "    .dataframe tbody tr th {\n",
       "        vertical-align: top;\n",
       "    }\n",
       "\n",
       "    .dataframe thead th {\n",
       "        text-align: right;\n",
       "    }\n",
       "</style>\n",
       "<table border=\"1\" class=\"dataframe\">\n",
       "  <thead>\n",
       "    <tr style=\"text-align: right;\">\n",
       "      <th></th>\n",
       "      <th>black</th>\n",
       "      <th>white</th>\n",
       "    </tr>\n",
       "    <tr>\n",
       "      <th>RECEIVED_DATE</th>\n",
       "      <th></th>\n",
       "      <th></th>\n",
       "    </tr>\n",
       "  </thead>\n",
       "  <tbody>\n",
       "    <tr>\n",
       "      <th>1901-07</th>\n",
       "      <td>1.000000</td>\n",
       "      <td>NaN</td>\n",
       "    </tr>\n",
       "    <tr>\n",
       "      <th>1967-04</th>\n",
       "      <td>1.000000</td>\n",
       "      <td>NaN</td>\n",
       "    </tr>\n",
       "    <tr>\n",
       "      <th>1979-08</th>\n",
       "      <td>1.000000</td>\n",
       "      <td>NaN</td>\n",
       "    </tr>\n",
       "    <tr>\n",
       "      <th>1979-11</th>\n",
       "      <td>1.000000</td>\n",
       "      <td>NaN</td>\n",
       "    </tr>\n",
       "    <tr>\n",
       "      <th>1982-08</th>\n",
       "      <td>1.000000</td>\n",
       "      <td>NaN</td>\n",
       "    </tr>\n",
       "    <tr>\n",
       "      <th>...</th>\n",
       "      <td>...</td>\n",
       "      <td>...</td>\n",
       "    </tr>\n",
       "    <tr>\n",
       "      <th>2020-10</th>\n",
       "      <td>0.573529</td>\n",
       "      <td>0.250000</td>\n",
       "    </tr>\n",
       "    <tr>\n",
       "      <th>2020-11</th>\n",
       "      <td>0.642857</td>\n",
       "      <td>0.071429</td>\n",
       "    </tr>\n",
       "    <tr>\n",
       "      <th>2020-12</th>\n",
       "      <td>0.318182</td>\n",
       "      <td>0.454545</td>\n",
       "    </tr>\n",
       "    <tr>\n",
       "      <th>2021-01</th>\n",
       "      <td>0.818182</td>\n",
       "      <td>0.090909</td>\n",
       "    </tr>\n",
       "    <tr>\n",
       "      <th>2021-02</th>\n",
       "      <td>0.400000</td>\n",
       "      <td>0.600000</td>\n",
       "    </tr>\n",
       "  </tbody>\n",
       "</table>\n",
       "<p>330 rows × 2 columns</p>\n",
       "</div>"
      ],
      "text/plain": [
       "                  black     white\n",
       "RECEIVED_DATE                    \n",
       "1901-07        1.000000       NaN\n",
       "1967-04        1.000000       NaN\n",
       "1979-08        1.000000       NaN\n",
       "1979-11        1.000000       NaN\n",
       "1982-08        1.000000       NaN\n",
       "...                 ...       ...\n",
       "2020-10        0.573529  0.250000\n",
       "2020-11        0.642857  0.071429\n",
       "2020-12        0.318182  0.454545\n",
       "2021-01        0.818182  0.090909\n",
       "2021-02        0.400000  0.600000\n",
       "\n",
       "[330 rows x 2 columns]"
      ]
     },
     "execution_count": 44,
     "metadata": {},
     "output_type": "execute_result"
    }
   ],
   "source": [
    "proportion"
   ]
  },
  {
   "cell_type": "code",
   "execution_count": 45,
   "metadata": {},
   "outputs": [
    {
     "data": {
      "text/plain": [
       "<Figure size 1000x700 with 0 Axes>"
      ]
     },
     "execution_count": 45,
     "metadata": {},
     "output_type": "execute_result"
    },
    {
     "data": {
      "text/plain": [
       "[<matplotlib.lines.Line2D at 0x1412add60>]"
      ]
     },
     "execution_count": 45,
     "metadata": {},
     "output_type": "execute_result"
    },
    {
     "data": {
      "text/plain": [
       "[<matplotlib.lines.Line2D at 0x1412da5d0>]"
      ]
     },
     "execution_count": 45,
     "metadata": {},
     "output_type": "execute_result"
    },
    {
     "data": {
      "text/plain": [
       "(12418.0, 18630.0)"
      ]
     },
     "execution_count": 45,
     "metadata": {},
     "output_type": "execute_result"
    },
    {
     "data": {
      "text/plain": [
       "<matplotlib.legend.Legend at 0x1412da750>"
      ]
     },
     "execution_count": 45,
     "metadata": {},
     "output_type": "execute_result"
    },
    {
     "data": {
      "image/png": "[encoded data removed]",
      "text/plain": [
       "<Figure size 1000x700 with 1 Axes>"
      ]
     },
     "metadata": {},
     "output_type": "display_data"
    }
   ],
   "source": [
    "import matplotlib.pyplot as plt\n",
    "x_dates = monthly_counts.index.to_timestamp()\n",
    "\n",
    "plt.figure(figsize=(10,7))\n",
    "plt.plot(x_dates,(proportion.black), label=\"Black\")\n",
    "plt.plot(x_dates,(proportion.white), label=\"White\")\n",
    "plt.xlim(pd.Timestamp('2004-01-01'),pd.Timestamp('2021-01-03'))\n",
    "plt.legend()"
   ]
  },
  {
   "cell_type": "markdown",
   "metadata": {},
   "source": [
    "### Proportion formulas using summation notation\n",
    "\n",
    "For each month $ t $, the proportions of Black and White individuals are calculated as:\n",
    "\n",
    "$\n",
    "P_{Black, t} = \\frac{\\sum_{i \\in t} \\text{is\\_black\\_derived == True}_i}{\\sum_{i \\in t} 1}\n",
    "$\n",
    "\n",
    "$\n",
    "P_{White, t} =\\frac{\\sum_{i \\in t} \\text{is\\_white\\_derived == True}_i}{\\sum_{i \\in t} 1}\n",
    "$\n",
    "$\n",
    "\n",
    "Where:\n",
    "- $ i \\in t $ refers to all observations in month $ t $\n"
   ]
  },
  {
   "cell_type": "markdown",
   "metadata": {},
   "source": [
    "In April and May 2020 there was a large spike in the proportion of white reported crimes and decrease in black reported crimes. This was the time that the George Floyd murder took place and resulted in mass protests which could have caused much more caution in arresting black individuals and less stereotyping."
   ]
  },
  {
   "cell_type": "markdown",
   "metadata": {},
   "source": [
    "## 2.2: Investigating the first type of disparity: probation versus incaceration (10 points)\n",
    "\n",
    "One type of disparity beyond who arrives at the sentencing stage is whether the defendant receives probation or incaceration.\n",
    "\n",
    "According to the codebook, incarceration is indicated by `COMMITMENT_TYPE` == \"Illinois Department of Corrections\"\n",
    "\n",
    "Recreate the previous plot but where the y axis represents the difference between the following proportions (can be either Black - White or White - Black but make sure to label), adding a smoothed line:\n",
    "\n",
    "- Percent of black defendants who are incarcerated out of all black defendants that month/year \n",
    "- Percent of white defendants who are incarcerated out of all white defendants that month/year \n",
    "\n",
    "In a markdown cell after, write 1-2 sentences on your observations of trends over time. Do gaps seem to be widening or increasing?"
   ]
  },
  {
   "cell_type": "code",
   "execution_count": 49,
   "metadata": {},
   "outputs": [],
   "source": [
    "black_def=d2[d2['is_black_derived'] == True].groupby('RECEIVED_DATE').size()\n",
    "black_inc=d2[(d2['is_black_derived'] == True) & (d2['COMMITMENT_TYPE']== \"Illinois Department of Corrections\")].groupby('RECEIVED_DATE').size()\n",
    "white_def=d2[d2['is_white_derived'] == True].groupby('RECEIVED_DATE').size()\n",
    "white_inc=d2[(d2['is_white_derived'] == True) & (d2['COMMITMENT_TYPE']== \"Illinois Department of Corrections\")].groupby('RECEIVED_DATE').size()\n",
    "percent_inc=pd.DataFrame({\n",
    "    'black': black_inc/black_def,\n",
    "    'white': white_inc/white_def,\n",
    "})"
   ]
  },
  {
   "cell_type": "code",
   "execution_count": 50,
   "metadata": {},
   "outputs": [],
   "source": [
    "diff_percent_inc=percent_inc.black-percent_inc.white"
   ]
  },
  {
   "cell_type": "code",
   "execution_count": 51,
   "metadata": {},
   "outputs": [],
   "source": [
    "# import matplotlib.pyplot as plt\n",
    "\n",
    "# x_dates = percent_inc.index.to_timestamp()\n",
    "\n",
    "# plt.figure(figsize=(10,7))\n",
    "\n",
    "# plt.plot(x_dates, percent_inc[\"black\"], label=\"Black\")\n",
    "# plt.plot(x_dates, percent_inc[\"white\"], label=\"White\")\n",
    "\n",
    "# plt.xlim(pd.Timestamp('2004-01-01'), pd.Timestamp('2021-01-03'))\n",
    "\n",
    "# plt.xlabel(\"Date\")\n",
    "# plt.ylabel(\"Share Sent to IDOC\")\n",
    "# plt.title(\"Share of Defendants Sent to Illinois Department of Corrections (IDOC)\")\n",
    "# plt.legend()\n",
    "\n",
    "# plt.tight_layout()\n",
    "# plt.show()"
   ]
  },
  {
   "cell_type": "code",
   "execution_count": 52,
   "metadata": {},
   "outputs": [
    {
     "data": {
      "text/plain": [
       "<Figure size 1000x700 with 0 Axes>"
      ]
     },
     "execution_count": 52,
     "metadata": {},
     "output_type": "execute_result"
    },
    {
     "data": {
      "text/plain": [
       "[<matplotlib.lines.Line2D at 0x152b83fe0>]"
      ]
     },
     "execution_count": 52,
     "metadata": {},
     "output_type": "execute_result"
    },
    {
     "data": {
      "text/plain": [
       "(12418.0, 18630.0)"
      ]
     },
     "execution_count": 52,
     "metadata": {},
     "output_type": "execute_result"
    },
    {
     "data": {
      "text/plain": [
       "Text(0.5, 0, 'Date')"
      ]
     },
     "execution_count": 52,
     "metadata": {},
     "output_type": "execute_result"
    },
    {
     "data": {
      "text/plain": [
       "Text(0, 0.5, 'Share Incarcerated Difference')"
      ]
     },
     "execution_count": 52,
     "metadata": {},
     "output_type": "execute_result"
    },
    {
     "data": {
      "text/plain": [
       "Text(0.5, 1.0, 'Share of Black - White Defendants Incarcerated Difference')"
      ]
     },
     "execution_count": 52,
     "metadata": {},
     "output_type": "execute_result"
    },
    {
     "data": {
      "text/plain": [
       "<matplotlib.legend.Legend at 0x1413341d0>"
      ]
     },
     "execution_count": 52,
     "metadata": {},
     "output_type": "execute_result"
    },
    {
     "data": {
      "image/png": "[encoded data removed]",
      "text/plain": [
       "<Figure size 1000x700 with 1 Axes>"
      ]
     },
     "metadata": {},
     "output_type": "display_data"
    }
   ],
   "source": [
    "import matplotlib.pyplot as plt\n",
    "\n",
    "x_dates = percent_inc.index.to_timestamp()\n",
    "\n",
    "plt.figure(figsize=(10,7))\n",
    "\n",
    "plt.plot(x_dates, diff_percent_inc, label=\"Black - White\")\n",
    "\n",
    "plt.xlim(pd.Timestamp('2004-01-01'), pd.Timestamp('2021-01-03'))\n",
    "\n",
    "plt.xlabel(\"Date\")\n",
    "plt.ylabel(\"Share Incarcerated Difference\")\n",
    "plt.title(\"Share of Black - White Defendants Incarcerated Difference\")\n",
    "plt.legend()\n",
    "\n",
    "plt.tight_layout()\n",
    "plt.show()\n"
   ]
  },
  {
   "cell_type": "markdown",
   "metadata": {},
   "source": [
    "Overall, Black defendants have generally had higher incarceration rates than White defendants, as shown by the positive values on the graph. Over time, the gap between Black and White incarceration rates has narrowed. In particular, starting around 2020, the difference in incarceration rates decreases notably, with several months where the rates for Black and White defendants are very similar or even slightly reversed."
   ]
  },
  {
   "cell_type": "markdown",
   "metadata": {},
   "source": [
    "## 2.3: Investigating mechanisms: incaceration rates by charge\n",
    "\n",
    "Your colleague sees the previous graph and is worried that the gap could be different---either wider or smaller---if you adjust for the fact that prosecutors have discretion in what crimes to charge defendants with. If white defendants are charged with crimes that tend to receive probation rather than incarceration, that could explain some of the gaps.\n",
    "\n",
    "In the next questions, you'll begin to investigate this."
   ]
  },
  {
   "cell_type": "markdown",
   "metadata": {},
   "source": [
    "\n"
   ]
  },
  {
   "cell_type": "markdown",
   "metadata": {},
   "source": [
    "### 2.3.1: Find the most common offenses (3 points)\n",
    "\n",
    "First, create a set of 'frequent offenses' that represent (over the entire period) the union of the 10 offenses Black defendant are most likely to be charged with and the 10 offenses white defendants are most likely to be charged with (might be far less than 20 total if there's a lot of overlap in common charges)\n",
    "\n",
    "Use the `simplified_offense_derived` for this"
   ]
  },
  {
   "cell_type": "code",
   "execution_count": 57,
   "metadata": {},
   "outputs": [
    {
     "data": {
      "text/plain": [
       "(simplified_offense_derived\n",
       " Narcotics                                    4923\n",
       " Retail Theft                                 2509\n",
       " DUI                                          1995\n",
       " Burglary                                     1454\n",
       " Battery                                      1448\n",
       " Driving With Suspended Or Revoked License    1160\n",
       " Theft                                        1095\n",
       " Residential Burglary                          717\n",
       " Other Offense                                 569\n",
       " UUW - Unlawful Use of Weapon                  527\n",
       " Name: count, dtype: int64,\n",
       " simplified_offense_derived\n",
       " Narcotics                                    29451\n",
       " UUW - Unlawful Use of Weapon                  9608\n",
       " Retail Theft                                  6812\n",
       " Battery                                       4650\n",
       " Driving With Suspended Or Revoked License     4459\n",
       " DUI                                           3842\n",
       " Burglary                                      3798\n",
       " Theft                                         2623\n",
       " Vehicle-related                               2400\n",
       " Robbery                                       2348\n",
       " Name: count, dtype: int64)"
      ]
     },
     "execution_count": 57,
     "metadata": {},
     "output_type": "execute_result"
    }
   ],
   "source": [
    "top_black = d2[d2[\"is_black_derived\"]][\"simplified_offense_derived\"].value_counts().head(10)\n",
    "top_white = d2[d2[\"is_white_derived\"]][\"simplified_offense_derived\"].value_counts().head(10)\n",
    "top_white, top_black"
   ]
  },
  {
   "cell_type": "markdown",
   "metadata": {},
   "source": [
    "### 2.3.2: Look at incarceration rates (again just whether incarcerated) by race and offense type for these top offenses (3 points)\n",
    "\n",
    "Print a wide-format version of the resulting table (so each row is an offense type, one col is black incarceration rate for that offense type; another is the white incarceration rate) and interpret. Which offenses show the largest disparities in judges being less likely to sentence White defendants to incarceration/more likely to offer those defendants probation?\n"
   ]
  },
  {
   "cell_type": "code",
   "execution_count": 59,
   "metadata": {},
   "outputs": [
    {
     "data": {
      "text/html": [
       "<div>\n",
       "<style scoped>\n",
       "    .dataframe tbody tr th:only-of-type {\n",
       "        vertical-align: middle;\n",
       "    }\n",
       "\n",
       "    .dataframe tbody tr th {\n",
       "        vertical-align: top;\n",
       "    }\n",
       "\n",
       "    .dataframe thead th {\n",
       "        text-align: right;\n",
       "    }\n",
       "</style>\n",
       "<table border=\"1\" class=\"dataframe\">\n",
       "  <thead>\n",
       "    <tr style=\"text-align: right;\">\n",
       "      <th></th>\n",
       "      <th>black</th>\n",
       "      <th>white</th>\n",
       "    </tr>\n",
       "    <tr>\n",
       "      <th>simplified_offense_derived</th>\n",
       "      <th></th>\n",
       "      <th></th>\n",
       "    </tr>\n",
       "  </thead>\n",
       "  <tbody>\n",
       "    <tr>\n",
       "      <th>Battery</th>\n",
       "      <td>0.509032</td>\n",
       "      <td>0.275552</td>\n",
       "    </tr>\n",
       "    <tr>\n",
       "      <th>Burglary</th>\n",
       "      <td>0.661927</td>\n",
       "      <td>0.535763</td>\n",
       "    </tr>\n",
       "    <tr>\n",
       "      <th>DUI</th>\n",
       "      <td>0.404997</td>\n",
       "      <td>0.341855</td>\n",
       "    </tr>\n",
       "    <tr>\n",
       "      <th>Driving With Suspended Or Revoked License</th>\n",
       "      <td>0.582193</td>\n",
       "      <td>0.496552</td>\n",
       "    </tr>\n",
       "    <tr>\n",
       "      <th>Narcotics</th>\n",
       "      <td>0.537876</td>\n",
       "      <td>0.242535</td>\n",
       "    </tr>\n",
       "    <tr>\n",
       "      <th>Other Offense</th>\n",
       "      <td>NaN</td>\n",
       "      <td>0.230228</td>\n",
       "    </tr>\n",
       "    <tr>\n",
       "      <th>Residential Burglary</th>\n",
       "      <td>NaN</td>\n",
       "      <td>0.654114</td>\n",
       "    </tr>\n",
       "    <tr>\n",
       "      <th>Retail Theft</th>\n",
       "      <td>0.595713</td>\n",
       "      <td>0.449582</td>\n",
       "    </tr>\n",
       "    <tr>\n",
       "      <th>Robbery</th>\n",
       "      <td>0.650341</td>\n",
       "      <td>NaN</td>\n",
       "    </tr>\n",
       "    <tr>\n",
       "      <th>Theft</th>\n",
       "      <td>0.386961</td>\n",
       "      <td>0.318721</td>\n",
       "    </tr>\n",
       "    <tr>\n",
       "      <th>UUW - Unlawful Use of Weapon</th>\n",
       "      <td>0.696191</td>\n",
       "      <td>0.481973</td>\n",
       "    </tr>\n",
       "    <tr>\n",
       "      <th>Vehicle-related</th>\n",
       "      <td>0.553750</td>\n",
       "      <td>NaN</td>\n",
       "    </tr>\n",
       "  </tbody>\n",
       "</table>\n",
       "</div>"
      ],
      "text/plain": [
       "                                              black     white\n",
       "simplified_offense_derived                                   \n",
       "Battery                                    0.509032  0.275552\n",
       "Burglary                                   0.661927  0.535763\n",
       "DUI                                        0.404997  0.341855\n",
       "Driving With Suspended Or Revoked License  0.582193  0.496552\n",
       "Narcotics                                  0.537876  0.242535\n",
       "Other Offense                                   NaN  0.230228\n",
       "Residential Burglary                            NaN  0.654114\n",
       "Retail Theft                               0.595713  0.449582\n",
       "Robbery                                    0.650341       NaN\n",
       "Theft                                      0.386961  0.318721\n",
       "UUW - Unlawful Use of Weapon               0.696191  0.481973\n",
       "Vehicle-related                            0.553750       NaN"
      ]
     },
     "execution_count": 59,
     "metadata": {},
     "output_type": "execute_result"
    }
   ],
   "source": [
    "top_black_crimes = top_black.index.tolist()\n",
    "top_white_crimes = top_white.index.tolist()\n",
    "\n",
    "\n",
    "\n",
    "black_inc_by_crime=d2[(d2['is_black_derived'] == True) & (d2['COMMITMENT_TYPE']== \"Illinois Department of Corrections\") & (d2[\"simplified_offense_derived\"].isin(top_black_crimes))].groupby(\"simplified_offense_derived\").size()\n",
    "white_inc_by_crime=d2[(d2['is_white_derived'] == True) & (d2['COMMITMENT_TYPE']== \"Illinois Department of Corrections\") & (d2[\"simplified_offense_derived\"].isin(top_white_crimes))].groupby(\"simplified_offense_derived\").size()\n",
    "black_by_crime=d2[(d2['is_black_derived'] == True) & (d2[\"simplified_offense_derived\"].isin(top_black_crimes))].groupby(\"simplified_offense_derived\").size()\n",
    "white_by_crime=d2[(d2['is_white_derived'] == True) & (d2[\"simplified_offense_derived\"].isin(top_white_crimes))].groupby(\"simplified_offense_derived\").size()\n",
    "pd1=pd.DataFrame({\n",
    "    'black': black_inc_by_crime/black_by_crime\n",
    "})\n",
    "pd2=pd.DataFrame({\n",
    "    'white': white_inc_by_crime/white_by_crime\n",
    "})\n",
    "\n",
    "percent_inc_by_crime = pd1.merge(pd2, left_index=True, right_index=True, how=\"outer\")\n",
    "\n",
    "percent_inc_by_crime"
   ]
  },
  {
   "cell_type": "markdown",
   "metadata": {},
   "source": [
    "### 2.3.3: Examine whether this changes pre and post change to charging threshold for retail theft (13 points)\n",
    "\n",
    "One important question is not only whether there are disparities by offense type but also whether these disparities are changing over time.\n",
    "\n",
    "The SAO, for instance, announced in December of 2016 that they would no longer default to charging retail thefts of under \\$1,000 as felonies. This change might have (1) decreased disparities or (2) increased disparities, depending on the correlation between race/ethnicity and magnitude of goods stolen: [news coverage](https://www.dnainfo.com/chicago/20161215/little-village/kim-foxx-raises-bar-for-retail-theft-felonies/). \n",
    "\n",
    "Focusing on `simplified_offense_derived` == \"Retail theft.\" Using a function and/or loop (Dec. 2016 is always excluded as a transition month):\n",
    "\n",
    "- Compare Black-White disparities before and after the change using a two-month bandwidth (so pre is October and November 2016; post is January and February 2017)\n",
    "\n",
    "- Compare Black-White disparities before and after the change using a four-month bandwidth (so pre is August- November 2016; post is January - April 2017)\n",
    "\n",
    "- Compare Black-White disparities using an eight-month bandwidth\n",
    "\n",
    "- Compare Black-White disparities using a twelve-month bandwidth\n",
    "\n",
    "\n",
    "------------------ \n",
    "\n",
    "- Print a table with the results (any organization is fine as long as it's clear)  \n",
    "\n",
    "- Create a bar chart where the x axis represents different bandwidths (2, 4, etc); the y axis the size of the Black-White gap in whether the defendant receives incarceration, and for each of the x axis points, you have one shaded bar representing \"before\" the change, another representing \"after\" the change (make sure that before is ordered before after and the bandwidths are from smallest to largest)\n",
    "\n",
    "*Note*: for each of the bandwidths include dates the entire month (e.g., for the first, include not only 02-01-2017 but everything up through 02-28-2017; easiest way is for the subsetting to use the rounded `sentenceym_derived`). Also make sure to only include white or black defendants.\n",
    "\n",
    "\n",
    "**Extra credit**: because the bandwidths have different sample sizes, a better viz incorporates measures of uncertainty. Add standard errors to the estimates using the formula: $(\\dfrac{p(1-p)}{n})^{0.5}$ where $p$ is the gap and $N$ is the number of cases in each bandwidth period \n"
   ]
  },
  {
   "cell_type": "code",
   "execution_count": 61,
   "metadata": {},
   "outputs": [],
   "source": [
    "def date_bandwith (start, end):\n",
    "    \n",
    "    mask_date = (pd.Timestamp(start) <= pd.to_datetime(d2[\"sentenceym_derived\"])) & (pd.to_datetime(d2[\"sentenceym_derived\"]) <= pd.Timestamp(end))\n",
    "    \n",
    "    black_inc_by_crime = d2[mask_date & (d2['is_black_derived'] == True) & (d2['COMMITMENT_TYPE']== \"Illinois Department of Corrections\") & (d2[\"simplified_offense_derived\"] == \"Retail Theft\")].shape[0]\n",
    "    white_inc_by_crime = d2[mask_date & (d2['is_white_derived'] == True) & (d2['COMMITMENT_TYPE']== \"Illinois Department of Corrections\") & (d2[\"simplified_offense_derived\"] == \"Retail Theft\")].shape[0]\n",
    "    black_by_crime = d2[mask_date & (d2['is_black_derived'] == True) & (d2[\"simplified_offense_derived\"] == \"Retail Theft\")].shape[0]\n",
    "    white_by_crime = d2[mask_date & (d2['is_white_derived'] == True) & (d2[\"simplified_offense_derived\"] == \"Retail Theft\")].shape[0]\n",
    "   \n",
    "    black_rate = black_inc_by_crime / black_by_crime if black_by_crime > 0 else 0\n",
    "    white_rate = white_inc_by_crime / white_by_crime if white_by_crime > 0 else 0\n",
    "    \n",
    "   \n",
    "    date_by_crime = pd.DataFrame({\n",
    "        'black': [black_rate],\n",
    "        'white': [white_rate]\n",
    "    })\n",
    "\n",
    "    #standard error calculation section\n",
    "    p = black_rate - white_rate\n",
    "    n = black_by_crime + white_by_crime\n",
    "    \n",
    "    if n > 0 and 0 < p < 1:\n",
    "        standard_error = ((p * (1 - p)) / n) ** 0.5\n",
    "    else:\n",
    "        standard_error = 0\n",
    "\n",
    "    return date_by_crime,standard_error"
   ]
  },
  {
   "cell_type": "code",
   "execution_count": 62,
   "metadata": {},
   "outputs": [
    {
     "data": {
      "text/html": [
       "<div>\n",
       "<style scoped>\n",
       "    .dataframe tbody tr th:only-of-type {\n",
       "        vertical-align: middle;\n",
       "    }\n",
       "\n",
       "    .dataframe tbody tr th {\n",
       "        vertical-align: top;\n",
       "    }\n",
       "\n",
       "    .dataframe thead th {\n",
       "        text-align: right;\n",
       "    }\n",
       "</style>\n",
       "<table border=\"1\" class=\"dataframe\">\n",
       "  <thead>\n",
       "    <tr style=\"text-align: right;\">\n",
       "      <th></th>\n",
       "      <th>Black Incarceration Rate</th>\n",
       "      <th>White Incarceration Rate</th>\n",
       "    </tr>\n",
       "  </thead>\n",
       "  <tbody>\n",
       "    <tr>\n",
       "      <th>Pre-Policy-2</th>\n",
       "      <td>0.372340</td>\n",
       "      <td>0.217391</td>\n",
       "    </tr>\n",
       "    <tr>\n",
       "      <th>Post-Policy-2</th>\n",
       "      <td>0.626374</td>\n",
       "      <td>0.538462</td>\n",
       "    </tr>\n",
       "    <tr>\n",
       "      <th>Pre-Policy-4</th>\n",
       "      <td>0.411972</td>\n",
       "      <td>0.330357</td>\n",
       "    </tr>\n",
       "    <tr>\n",
       "      <th>Post-Policy-4</th>\n",
       "      <td>0.558511</td>\n",
       "      <td>0.476923</td>\n",
       "    </tr>\n",
       "    <tr>\n",
       "      <th>Pre-Policy-8</th>\n",
       "      <td>0.493450</td>\n",
       "      <td>0.450000</td>\n",
       "    </tr>\n",
       "    <tr>\n",
       "      <th>Post-Policy-8</th>\n",
       "      <td>0.568990</td>\n",
       "      <td>0.436090</td>\n",
       "    </tr>\n",
       "    <tr>\n",
       "      <th>Pre-Policy-12</th>\n",
       "      <td>0.510274</td>\n",
       "      <td>0.441964</td>\n",
       "    </tr>\n",
       "    <tr>\n",
       "      <th>Post-Policy-12</th>\n",
       "      <td>0.580889</td>\n",
       "      <td>0.419271</td>\n",
       "    </tr>\n",
       "  </tbody>\n",
       "</table>\n",
       "</div>"
      ],
      "text/plain": [
       "                Black Incarceration Rate  White Incarceration Rate\n",
       "Pre-Policy-2                    0.372340                  0.217391\n",
       "Post-Policy-2                   0.626374                  0.538462\n",
       "Pre-Policy-4                    0.411972                  0.330357\n",
       "Post-Policy-4                   0.558511                  0.476923\n",
       "Pre-Policy-8                    0.493450                  0.450000\n",
       "Post-Policy-8                   0.568990                  0.436090\n",
       "Pre-Policy-12                   0.510274                  0.441964\n",
       "Post-Policy-12                  0.580889                  0.419271"
      ]
     },
     "execution_count": 62,
     "metadata": {},
     "output_type": "execute_result"
    }
   ],
   "source": [
    "pre_two_months = date_bandwith(\"10-1-2016\",\"11-30-2016\")\n",
    "post_two_months = date_bandwith(\"1-1-2017\",\"2-28-2017\")\n",
    "two_months = pd.merge(pre_two_months[0], post_two_months[0],how=\"outer\")\n",
    "two_months.index = [\"Pre-Policy-2\", \"Post-Policy-2\"]\n",
    "\n",
    "\n",
    "pre_four_months = date_bandwith(\"08-1-2016\",\"11-30-2016\")\n",
    "post_four_months = date_bandwith(\"1-1-2017\",\"4-30-2017\")\n",
    "four_months = pd.merge(pre_four_months[0], post_four_months[0],how=\"outer\")\n",
    "four_months.index = [\"Pre-Policy-4\", \"Post-Policy-4\"]\n",
    "\n",
    "\n",
    "pre_eight_months = date_bandwith(\"04-1-2016\",\"11-30-2016\")\n",
    "post_eight_months = date_bandwith(\"1-1-2017\",\"8-31-2017\")\n",
    "eight_months = pd.merge(pre_eight_months[0], post_eight_months[0],how=\"outer\")\n",
    "eight_months.index = [\"Pre-Policy-8\", \"Post-Policy-8\"]\n",
    "\n",
    "\n",
    "pre_twelve_months = date_bandwith(\"12-1-2015\",\"11-30-2016\")\n",
    "post_twelve_months = date_bandwith(\"1-1-2017\",\"1-1-2018\")\n",
    "twelve_months = pd.merge(pre_twelve_months[0], post_twelve_months[0],how=\"outer\")\n",
    "twelve_months.index = [\"Pre-Policy-12\", \"Post-Policy-12\"]\n",
    "\n",
    "total = pd.concat([\n",
    "    two_months,\n",
    "    four_months,\n",
    "    eight_months,\n",
    "    twelve_months\n",
    "], axis=0)\n",
    "\n",
    "yerr = [pre_two_months[1],post_two_months[1],\n",
    "        pre_four_months[1], post_four_months[1],\n",
    "        pre_eight_months[1],post_eight_months[1],\n",
    "        pre_twelve_months[1],post_twelve_months[1],]\n",
    "\n",
    "\n",
    "total.columns = ['Black Incarceration Rate', 'White Incarceration Rate']\n",
    "total"
   ]
  },
  {
   "cell_type": "code",
   "execution_count": 92,
   "metadata": {},
   "outputs": [
    {
     "data": {
      "text/plain": [
       "<Axes: >"
      ]
     },
     "execution_count": 92,
     "metadata": {},
     "output_type": "execute_result"
    },
    {
     "data": {
      "text/plain": [
       "Text(0.5, 1.0, 'Standard Banding Incarceration Rates')"
      ]
     },
     "execution_count": 92,
     "metadata": {},
     "output_type": "execute_result"
    },
    {
     "data": {
      "image/png": "[encoded data removed]",
      "text/plain": [
       "<Figure size 1000x800 with 1 Axes>"
      ]
     },
     "metadata": {},
     "output_type": "display_data"
    }
   ],
   "source": [
    "total.plot.bar(color=[\"lightskyblue\",\"crimson\"],figsize=(10,8), yerr = yerr, capsize=8)\n",
    "plt.title(\"Standard Banding Incarceration Rates\")"
   ]
  },
  {
   "cell_type": "code",
   "execution_count": 98,
   "metadata": {},
   "outputs": [
    {
     "data": {
      "text/plain": [
       "<Axes: >"
      ]
     },
     "execution_count": 98,
     "metadata": {},
     "output_type": "execute_result"
    },
    {
     "data": {
      "text/plain": [
       "Text(0.5, 1.0, 'Standard Banding Incarceration Rates - Banding Order')"
      ]
     },
     "execution_count": 98,
     "metadata": {},
     "output_type": "execute_result"
    },
    {
     "data": {
      "image/png": "[encoded data removed]",
      "text/plain": [
       "<Figure size 1000x800 with 1 Axes>"
      ]
     },
     "metadata": {},
     "output_type": "display_data"
    }
   ],
   "source": [
    "new_order = [ 'Pre-Policy-12','Pre-Policy-8','Pre-Policy-4', 'Pre-Policy-2','Post-Policy-2',  'Post-Policy-4',  \n",
    "             'Post-Policy-8',  'Post-Policy-12',]\n",
    "reordered_total = total.reindex(new_order)\n",
    "reordered_total.plot.bar(color=[\"lightskyblue\",\"crimson\"],figsize=(10,8), yerr = yerr, capsize=8)\n",
    "plt.title(\"Standard Banding Incarceration Rates - Banding Order\")"
   ]
  },
  {
   "cell_type": "code",
   "execution_count": null,
   "metadata": {},
   "outputs": [],
   "source": []
  },
  {
   "cell_type": "markdown",
   "metadata": {},
   "source": [
    "### 2.3.3.1: Interpret the results (2 points)\n",
    "\n",
    "Write a two-sentence interpretation of the results. What might this show about how people on both sides of the issue---those who argued that the retail theft policy change would narrow disparities; those who argued that the change may widen disparities--could support their claims? "
   ]
  },
  {
   "cell_type": "code",
   "execution_count": null,
   "metadata": {},
   "outputs": [],
   "source": []
  }
 ],
 "metadata": {
  "kernelspec": {
   "display_name": "Python [conda env:base] *",
   "language": "python",
   "name": "conda-base-py"
  },
  "language_info": {
   "codemirror_mode": {
    "name": "ipython",
    "version": 3
   },
   "file_extension": ".py",
   "mimetype": "text/x-python",
   "name": "python",
   "nbconvert_exporter": "python",
   "pygments_lexer": "ipython3",
   "version": "3.12.2"
  }
 },
 "nbformat": 4,
 "nbformat_minor": 4
}
